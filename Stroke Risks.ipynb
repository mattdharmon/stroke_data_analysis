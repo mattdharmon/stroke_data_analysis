{
 "cells": [
  {
   "cell_type": "code",
   "execution_count": 1,
   "metadata": {},
   "outputs": [],
   "source": [
    "# Import our dependencies\n",
    "from sklearn.model_selection import train_test_split\n",
    "from sklearn.preprocessing import StandardScaler,OneHotEncoder\n",
    "import pandas as pd\n",
    "import tensorflow as tf\n",
    "from tensorflow.keras.models import Sequential\n",
    "from tensorflow.keras.layers import Dense\n",
    "import numpy as np"
   ]
  },
  {
   "cell_type": "code",
   "execution_count": 2,
   "metadata": {},
   "outputs": [
    {
     "output_type": "execute_result",
     "data": {
      "text/plain": [
       "      id  gender   age  hypertension  heart_disease ever_married  \\\n",
       "0   9046    Male  67.0             0              1          Yes   \n",
       "1  51676  Female  61.0             0              0          Yes   \n",
       "2  31112    Male  80.0             0              1          Yes   \n",
       "3  60182  Female  49.0             0              0          Yes   \n",
       "4   1665  Female  79.0             1              0          Yes   \n",
       "\n",
       "       work_type Residence_type  avg_glucose_level   bmi   smoking_status  \\\n",
       "0        Private          Urban             228.69  36.6  formerly smoked   \n",
       "1  Self-employed          Rural             202.21   NaN     never smoked   \n",
       "2        Private          Rural             105.92  32.5     never smoked   \n",
       "3        Private          Urban             171.23  34.4           smokes   \n",
       "4  Self-employed          Rural             174.12  24.0     never smoked   \n",
       "\n",
       "   stroke  \n",
       "0       1  \n",
       "1       1  \n",
       "2       1  \n",
       "3       1  \n",
       "4       1  "
      ],
      "text/html": "<div>\n<style scoped>\n    .dataframe tbody tr th:only-of-type {\n        vertical-align: middle;\n    }\n\n    .dataframe tbody tr th {\n        vertical-align: top;\n    }\n\n    .dataframe thead th {\n        text-align: right;\n    }\n</style>\n<table border=\"1\" class=\"dataframe\">\n  <thead>\n    <tr style=\"text-align: right;\">\n      <th></th>\n      <th>id</th>\n      <th>gender</th>\n      <th>age</th>\n      <th>hypertension</th>\n      <th>heart_disease</th>\n      <th>ever_married</th>\n      <th>work_type</th>\n      <th>Residence_type</th>\n      <th>avg_glucose_level</th>\n      <th>bmi</th>\n      <th>smoking_status</th>\n      <th>stroke</th>\n    </tr>\n  </thead>\n  <tbody>\n    <tr>\n      <th>0</th>\n      <td>9046</td>\n      <td>Male</td>\n      <td>67.0</td>\n      <td>0</td>\n      <td>1</td>\n      <td>Yes</td>\n      <td>Private</td>\n      <td>Urban</td>\n      <td>228.69</td>\n      <td>36.6</td>\n      <td>formerly smoked</td>\n      <td>1</td>\n    </tr>\n    <tr>\n      <th>1</th>\n      <td>51676</td>\n      <td>Female</td>\n      <td>61.0</td>\n      <td>0</td>\n      <td>0</td>\n      <td>Yes</td>\n      <td>Self-employed</td>\n      <td>Rural</td>\n      <td>202.21</td>\n      <td>NaN</td>\n      <td>never smoked</td>\n      <td>1</td>\n    </tr>\n    <tr>\n      <th>2</th>\n      <td>31112</td>\n      <td>Male</td>\n      <td>80.0</td>\n      <td>0</td>\n      <td>1</td>\n      <td>Yes</td>\n      <td>Private</td>\n      <td>Rural</td>\n      <td>105.92</td>\n      <td>32.5</td>\n      <td>never smoked</td>\n      <td>1</td>\n    </tr>\n    <tr>\n      <th>3</th>\n      <td>60182</td>\n      <td>Female</td>\n      <td>49.0</td>\n      <td>0</td>\n      <td>0</td>\n      <td>Yes</td>\n      <td>Private</td>\n      <td>Urban</td>\n      <td>171.23</td>\n      <td>34.4</td>\n      <td>smokes</td>\n      <td>1</td>\n    </tr>\n    <tr>\n      <th>4</th>\n      <td>1665</td>\n      <td>Female</td>\n      <td>79.0</td>\n      <td>1</td>\n      <td>0</td>\n      <td>Yes</td>\n      <td>Self-employed</td>\n      <td>Rural</td>\n      <td>174.12</td>\n      <td>24.0</td>\n      <td>never smoked</td>\n      <td>1</td>\n    </tr>\n  </tbody>\n</table>\n</div>"
     },
     "metadata": {},
     "execution_count": 2
    }
   ],
   "source": [
    "#  Import and read the csv\n",
    "stroke_df = pd.read_csv(\"resources/healthcare-dataset-stroke-data.csv\")\n",
    "stroke_df.head()"
   ]
  },
  {
   "cell_type": "code",
   "execution_count": 3,
   "metadata": {},
   "outputs": [],
   "source": [
    "## remove the id column\n",
    "stroke_df = stroke_df.drop(columns=['id'])"
   ]
  },
  {
   "cell_type": "code",
   "execution_count": 4,
   "metadata": {},
   "outputs": [
    {
     "output_type": "execute_result",
     "data": {
      "text/plain": [
       "gender                  3\n",
       "age                   104\n",
       "hypertension            2\n",
       "heart_disease           2\n",
       "ever_married            2\n",
       "work_type               5\n",
       "Residence_type          2\n",
       "avg_glucose_level    3979\n",
       "bmi                   418\n",
       "smoking_status          4\n",
       "stroke                  2\n",
       "dtype: int64"
      ]
     },
     "metadata": {},
     "execution_count": 4
    }
   ],
   "source": [
    "# Determine the number of unique values in each column.\n",
    "stroke_df.nunique()"
   ]
  },
  {
   "source": [
    "## Possible binning fields\n",
    "\n",
    "- work_type"
   ],
   "cell_type": "markdown",
   "metadata": {}
  },
  {
   "cell_type": "code",
   "execution_count": 5,
   "metadata": {},
   "outputs": [
    {
     "output_type": "execute_result",
     "data": {
      "text/plain": [
       "Private          2925\n",
       "Self-employed     819\n",
       "children          687\n",
       "Govt_job          657\n",
       "Never_worked       22\n",
       "Name: work_type, dtype: int64"
      ]
     },
     "metadata": {},
     "execution_count": 5
    }
   ],
   "source": [
    "# Look at work_type value counts for binning\n",
    "work_type_counts = stroke_df.work_type.value_counts()\n",
    "work_type_counts"
   ]
  },
  {
   "cell_type": "code",
   "execution_count": 6,
   "metadata": {},
   "outputs": [
    {
     "output_type": "execute_result",
     "data": {
      "text/plain": [
       "<AxesSubplot:ylabel='Density'>"
      ]
     },
     "metadata": {},
     "execution_count": 6
    },
    {
     "output_type": "display_data",
     "data": {
      "text/plain": "<Figure size 432x288 with 1 Axes>",
      "image/svg+xml": "<?xml version=\"1.0\" encoding=\"utf-8\" standalone=\"no\"?>\n<!DOCTYPE svg PUBLIC \"-//W3C//DTD SVG 1.1//EN\"\n  \"http://www.w3.org/Graphics/SVG/1.1/DTD/svg11.dtd\">\n<!-- Created with matplotlib (https://matplotlib.org/) -->\n<svg height=\"248.518125pt\" version=\"1.1\" viewBox=\"0 0 411.23125 248.518125\" width=\"411.23125pt\" xmlns=\"http://www.w3.org/2000/svg\" xmlns:xlink=\"http://www.w3.org/1999/xlink\">\n <metadata>\n  <rdf:RDF xmlns:cc=\"http://creativecommons.org/ns#\" xmlns:dc=\"http://purl.org/dc/elements/1.1/\" xmlns:rdf=\"http://www.w3.org/1999/02/22-rdf-syntax-ns#\">\n   <cc:Work>\n    <dc:type rdf:resource=\"http://purl.org/dc/dcmitype/StillImage\"/>\n    <dc:date>2021-05-20T17:34:11.700781</dc:date>\n    <dc:format>image/svg+xml</dc:format>\n    <dc:creator>\n     <cc:Agent>\n      <dc:title>Matplotlib v3.3.2, https://matplotlib.org/</dc:title>\n     </cc:Agent>\n    </dc:creator>\n   </cc:Work>\n  </rdf:RDF>\n </metadata>\n <defs>\n  <style type=\"text/css\">*{stroke-linecap:butt;stroke-linejoin:round;}</style>\n </defs>\n <g id=\"figure_1\">\n  <g id=\"patch_1\">\n   <path d=\"M 0 248.518125 \nL 411.23125 248.518125 \nL 411.23125 0 \nL 0 0 \nz\n\" style=\"fill:none;\"/>\n  </g>\n  <g id=\"axes_1\">\n   <g id=\"patch_2\">\n    <path d=\"M 69.23125 224.64 \nL 404.03125 224.64 \nL 404.03125 7.2 \nL 69.23125 7.2 \nz\n\" style=\"fill:#ffffff;\"/>\n   </g>\n   <g id=\"matplotlib.axis_1\">\n    <g id=\"xtick_1\">\n     <g id=\"line2d_1\">\n      <defs>\n       <path d=\"M 0 0 \nL 0 3.5 \n\" id=\"me8932f1d6c\" style=\"stroke:#000000;stroke-width:0.8;\"/>\n      </defs>\n      <g>\n       <use style=\"stroke:#000000;stroke-width:0.8;\" x=\"106.964792\" xlink:href=\"#me8932f1d6c\" y=\"224.64\"/>\n      </g>\n     </g>\n     <g id=\"text_1\">\n      <!-- −1000 -->\n      <g transform=\"translate(90.049948 239.238437)scale(0.1 -0.1)\">\n       <defs>\n        <path d=\"M 10.59375 35.5 \nL 73.1875 35.5 \nL 73.1875 27.203125 \nL 10.59375 27.203125 \nz\n\" id=\"DejaVuSans-8722\"/>\n        <path d=\"M 12.40625 8.296875 \nL 28.515625 8.296875 \nL 28.515625 63.921875 \nL 10.984375 60.40625 \nL 10.984375 69.390625 \nL 28.421875 72.90625 \nL 38.28125 72.90625 \nL 38.28125 8.296875 \nL 54.390625 8.296875 \nL 54.390625 0 \nL 12.40625 0 \nz\n\" id=\"DejaVuSans-49\"/>\n        <path d=\"M 31.78125 66.40625 \nQ 24.171875 66.40625 20.328125 58.90625 \nQ 16.5 51.421875 16.5 36.375 \nQ 16.5 21.390625 20.328125 13.890625 \nQ 24.171875 6.390625 31.78125 6.390625 \nQ 39.453125 6.390625 43.28125 13.890625 \nQ 47.125 21.390625 47.125 36.375 \nQ 47.125 51.421875 43.28125 58.90625 \nQ 39.453125 66.40625 31.78125 66.40625 \nz\nM 31.78125 74.21875 \nQ 44.046875 74.21875 50.515625 64.515625 \nQ 56.984375 54.828125 56.984375 36.375 \nQ 56.984375 17.96875 50.515625 8.265625 \nQ 44.046875 -1.421875 31.78125 -1.421875 \nQ 19.53125 -1.421875 13.0625 8.265625 \nQ 6.59375 17.96875 6.59375 36.375 \nQ 6.59375 54.828125 13.0625 64.515625 \nQ 19.53125 74.21875 31.78125 74.21875 \nz\n\" id=\"DejaVuSans-48\"/>\n       </defs>\n       <use xlink:href=\"#DejaVuSans-8722\"/>\n       <use x=\"83.789062\" xlink:href=\"#DejaVuSans-49\"/>\n       <use x=\"147.412109\" xlink:href=\"#DejaVuSans-48\"/>\n       <use x=\"211.035156\" xlink:href=\"#DejaVuSans-48\"/>\n       <use x=\"274.658203\" xlink:href=\"#DejaVuSans-48\"/>\n      </g>\n     </g>\n    </g>\n    <g id=\"xtick_2\">\n     <g id=\"line2d_2\">\n      <g>\n       <use style=\"stroke:#000000;stroke-width:0.8;\" x=\"159.387051\" xlink:href=\"#me8932f1d6c\" y=\"224.64\"/>\n      </g>\n     </g>\n     <g id=\"text_2\">\n      <!-- 0 -->\n      <g transform=\"translate(156.205801 239.238437)scale(0.1 -0.1)\">\n       <use xlink:href=\"#DejaVuSans-48\"/>\n      </g>\n     </g>\n    </g>\n    <g id=\"xtick_3\">\n     <g id=\"line2d_3\">\n      <g>\n       <use style=\"stroke:#000000;stroke-width:0.8;\" x=\"211.80931\" xlink:href=\"#me8932f1d6c\" y=\"224.64\"/>\n      </g>\n     </g>\n     <g id=\"text_3\">\n      <!-- 1000 -->\n      <g transform=\"translate(199.08431 239.238437)scale(0.1 -0.1)\">\n       <use xlink:href=\"#DejaVuSans-49\"/>\n       <use x=\"63.623047\" xlink:href=\"#DejaVuSans-48\"/>\n       <use x=\"127.246094\" xlink:href=\"#DejaVuSans-48\"/>\n       <use x=\"190.869141\" xlink:href=\"#DejaVuSans-48\"/>\n      </g>\n     </g>\n    </g>\n    <g id=\"xtick_4\">\n     <g id=\"line2d_4\">\n      <g>\n       <use style=\"stroke:#000000;stroke-width:0.8;\" x=\"264.231569\" xlink:href=\"#me8932f1d6c\" y=\"224.64\"/>\n      </g>\n     </g>\n     <g id=\"text_4\">\n      <!-- 2000 -->\n      <g transform=\"translate(251.506569 239.238437)scale(0.1 -0.1)\">\n       <defs>\n        <path d=\"M 19.1875 8.296875 \nL 53.609375 8.296875 \nL 53.609375 0 \nL 7.328125 0 \nL 7.328125 8.296875 \nQ 12.9375 14.109375 22.625 23.890625 \nQ 32.328125 33.6875 34.8125 36.53125 \nQ 39.546875 41.84375 41.421875 45.53125 \nQ 43.3125 49.21875 43.3125 52.78125 \nQ 43.3125 58.59375 39.234375 62.25 \nQ 35.15625 65.921875 28.609375 65.921875 \nQ 23.96875 65.921875 18.8125 64.3125 \nQ 13.671875 62.703125 7.8125 59.421875 \nL 7.8125 69.390625 \nQ 13.765625 71.78125 18.9375 73 \nQ 24.125 74.21875 28.421875 74.21875 \nQ 39.75 74.21875 46.484375 68.546875 \nQ 53.21875 62.890625 53.21875 53.421875 \nQ 53.21875 48.921875 51.53125 44.890625 \nQ 49.859375 40.875 45.40625 35.40625 \nQ 44.1875 33.984375 37.640625 27.21875 \nQ 31.109375 20.453125 19.1875 8.296875 \nz\n\" id=\"DejaVuSans-50\"/>\n       </defs>\n       <use xlink:href=\"#DejaVuSans-50\"/>\n       <use x=\"63.623047\" xlink:href=\"#DejaVuSans-48\"/>\n       <use x=\"127.246094\" xlink:href=\"#DejaVuSans-48\"/>\n       <use x=\"190.869141\" xlink:href=\"#DejaVuSans-48\"/>\n      </g>\n     </g>\n    </g>\n    <g id=\"xtick_5\">\n     <g id=\"line2d_5\">\n      <g>\n       <use style=\"stroke:#000000;stroke-width:0.8;\" x=\"316.653829\" xlink:href=\"#me8932f1d6c\" y=\"224.64\"/>\n      </g>\n     </g>\n     <g id=\"text_5\">\n      <!-- 3000 -->\n      <g transform=\"translate(303.928829 239.238437)scale(0.1 -0.1)\">\n       <defs>\n        <path d=\"M 40.578125 39.3125 \nQ 47.65625 37.796875 51.625 33 \nQ 55.609375 28.21875 55.609375 21.1875 \nQ 55.609375 10.40625 48.1875 4.484375 \nQ 40.765625 -1.421875 27.09375 -1.421875 \nQ 22.515625 -1.421875 17.65625 -0.515625 \nQ 12.796875 0.390625 7.625 2.203125 \nL 7.625 11.71875 \nQ 11.71875 9.328125 16.59375 8.109375 \nQ 21.484375 6.890625 26.8125 6.890625 \nQ 36.078125 6.890625 40.9375 10.546875 \nQ 45.796875 14.203125 45.796875 21.1875 \nQ 45.796875 27.640625 41.28125 31.265625 \nQ 36.765625 34.90625 28.71875 34.90625 \nL 20.21875 34.90625 \nL 20.21875 43.015625 \nL 29.109375 43.015625 \nQ 36.375 43.015625 40.234375 45.921875 \nQ 44.09375 48.828125 44.09375 54.296875 \nQ 44.09375 59.90625 40.109375 62.90625 \nQ 36.140625 65.921875 28.71875 65.921875 \nQ 24.65625 65.921875 20.015625 65.03125 \nQ 15.375 64.15625 9.8125 62.3125 \nL 9.8125 71.09375 \nQ 15.4375 72.65625 20.34375 73.4375 \nQ 25.25 74.21875 29.59375 74.21875 \nQ 40.828125 74.21875 47.359375 69.109375 \nQ 53.90625 64.015625 53.90625 55.328125 \nQ 53.90625 49.265625 50.4375 45.09375 \nQ 46.96875 40.921875 40.578125 39.3125 \nz\n\" id=\"DejaVuSans-51\"/>\n       </defs>\n       <use xlink:href=\"#DejaVuSans-51\"/>\n       <use x=\"63.623047\" xlink:href=\"#DejaVuSans-48\"/>\n       <use x=\"127.246094\" xlink:href=\"#DejaVuSans-48\"/>\n       <use x=\"190.869141\" xlink:href=\"#DejaVuSans-48\"/>\n      </g>\n     </g>\n    </g>\n    <g id=\"xtick_6\">\n     <g id=\"line2d_6\">\n      <g>\n       <use style=\"stroke:#000000;stroke-width:0.8;\" x=\"369.076088\" xlink:href=\"#me8932f1d6c\" y=\"224.64\"/>\n      </g>\n     </g>\n     <g id=\"text_6\">\n      <!-- 4000 -->\n      <g transform=\"translate(356.351088 239.238437)scale(0.1 -0.1)\">\n       <defs>\n        <path d=\"M 37.796875 64.3125 \nL 12.890625 25.390625 \nL 37.796875 25.390625 \nz\nM 35.203125 72.90625 \nL 47.609375 72.90625 \nL 47.609375 25.390625 \nL 58.015625 25.390625 \nL 58.015625 17.1875 \nL 47.609375 17.1875 \nL 47.609375 0 \nL 37.796875 0 \nL 37.796875 17.1875 \nL 4.890625 17.1875 \nL 4.890625 26.703125 \nz\n\" id=\"DejaVuSans-52\"/>\n       </defs>\n       <use xlink:href=\"#DejaVuSans-52\"/>\n       <use x=\"63.623047\" xlink:href=\"#DejaVuSans-48\"/>\n       <use x=\"127.246094\" xlink:href=\"#DejaVuSans-48\"/>\n       <use x=\"190.869141\" xlink:href=\"#DejaVuSans-48\"/>\n      </g>\n     </g>\n    </g>\n   </g>\n   <g id=\"matplotlib.axis_2\">\n    <g id=\"ytick_1\">\n     <g id=\"line2d_7\">\n      <defs>\n       <path d=\"M 0 0 \nL -3.5 0 \n\" id=\"m0815a84668\" style=\"stroke:#000000;stroke-width:0.8;\"/>\n      </defs>\n      <g>\n       <use style=\"stroke:#000000;stroke-width:0.8;\" x=\"69.23125\" xlink:href=\"#m0815a84668\" y=\"197.598412\"/>\n      </g>\n     </g>\n     <g id=\"text_7\">\n      <!-- 0.00005 -->\n      <g transform=\"translate(20.878125 201.397631)scale(0.1 -0.1)\">\n       <defs>\n        <path d=\"M 10.6875 12.40625 \nL 21 12.40625 \nL 21 0 \nL 10.6875 0 \nz\n\" id=\"DejaVuSans-46\"/>\n        <path d=\"M 10.796875 72.90625 \nL 49.515625 72.90625 \nL 49.515625 64.59375 \nL 19.828125 64.59375 \nL 19.828125 46.734375 \nQ 21.96875 47.46875 24.109375 47.828125 \nQ 26.265625 48.1875 28.421875 48.1875 \nQ 40.625 48.1875 47.75 41.5 \nQ 54.890625 34.8125 54.890625 23.390625 \nQ 54.890625 11.625 47.5625 5.09375 \nQ 40.234375 -1.421875 26.90625 -1.421875 \nQ 22.3125 -1.421875 17.546875 -0.640625 \nQ 12.796875 0.140625 7.71875 1.703125 \nL 7.71875 11.625 \nQ 12.109375 9.234375 16.796875 8.0625 \nQ 21.484375 6.890625 26.703125 6.890625 \nQ 35.15625 6.890625 40.078125 11.328125 \nQ 45.015625 15.765625 45.015625 23.390625 \nQ 45.015625 31 40.078125 35.4375 \nQ 35.15625 39.890625 26.703125 39.890625 \nQ 22.75 39.890625 18.8125 39.015625 \nQ 14.890625 38.140625 10.796875 36.28125 \nz\n\" id=\"DejaVuSans-53\"/>\n       </defs>\n       <use xlink:href=\"#DejaVuSans-48\"/>\n       <use x=\"63.623047\" xlink:href=\"#DejaVuSans-46\"/>\n       <use x=\"95.410156\" xlink:href=\"#DejaVuSans-48\"/>\n       <use x=\"159.033203\" xlink:href=\"#DejaVuSans-48\"/>\n       <use x=\"222.65625\" xlink:href=\"#DejaVuSans-48\"/>\n       <use x=\"286.279297\" xlink:href=\"#DejaVuSans-48\"/>\n       <use x=\"349.902344\" xlink:href=\"#DejaVuSans-53\"/>\n      </g>\n     </g>\n    </g>\n    <g id=\"ytick_2\">\n     <g id=\"line2d_8\">\n      <g>\n       <use style=\"stroke:#000000;stroke-width:0.8;\" x=\"69.23125\" xlink:href=\"#m0815a84668\" y=\"169.564499\"/>\n      </g>\n     </g>\n     <g id=\"text_8\">\n      <!-- 0.00010 -->\n      <g transform=\"translate(20.878125 173.363718)scale(0.1 -0.1)\">\n       <use xlink:href=\"#DejaVuSans-48\"/>\n       <use x=\"63.623047\" xlink:href=\"#DejaVuSans-46\"/>\n       <use x=\"95.410156\" xlink:href=\"#DejaVuSans-48\"/>\n       <use x=\"159.033203\" xlink:href=\"#DejaVuSans-48\"/>\n       <use x=\"222.65625\" xlink:href=\"#DejaVuSans-48\"/>\n       <use x=\"286.279297\" xlink:href=\"#DejaVuSans-49\"/>\n       <use x=\"349.902344\" xlink:href=\"#DejaVuSans-48\"/>\n      </g>\n     </g>\n    </g>\n    <g id=\"ytick_3\">\n     <g id=\"line2d_9\">\n      <g>\n       <use style=\"stroke:#000000;stroke-width:0.8;\" x=\"69.23125\" xlink:href=\"#m0815a84668\" y=\"141.530586\"/>\n      </g>\n     </g>\n     <g id=\"text_9\">\n      <!-- 0.00015 -->\n      <g transform=\"translate(20.878125 145.329804)scale(0.1 -0.1)\">\n       <use xlink:href=\"#DejaVuSans-48\"/>\n       <use x=\"63.623047\" xlink:href=\"#DejaVuSans-46\"/>\n       <use x=\"95.410156\" xlink:href=\"#DejaVuSans-48\"/>\n       <use x=\"159.033203\" xlink:href=\"#DejaVuSans-48\"/>\n       <use x=\"222.65625\" xlink:href=\"#DejaVuSans-48\"/>\n       <use x=\"286.279297\" xlink:href=\"#DejaVuSans-49\"/>\n       <use x=\"349.902344\" xlink:href=\"#DejaVuSans-53\"/>\n      </g>\n     </g>\n    </g>\n    <g id=\"ytick_4\">\n     <g id=\"line2d_10\">\n      <g>\n       <use style=\"stroke:#000000;stroke-width:0.8;\" x=\"69.23125\" xlink:href=\"#m0815a84668\" y=\"113.496673\"/>\n      </g>\n     </g>\n     <g id=\"text_10\">\n      <!-- 0.00020 -->\n      <g transform=\"translate(20.878125 117.295891)scale(0.1 -0.1)\">\n       <use xlink:href=\"#DejaVuSans-48\"/>\n       <use x=\"63.623047\" xlink:href=\"#DejaVuSans-46\"/>\n       <use x=\"95.410156\" xlink:href=\"#DejaVuSans-48\"/>\n       <use x=\"159.033203\" xlink:href=\"#DejaVuSans-48\"/>\n       <use x=\"222.65625\" xlink:href=\"#DejaVuSans-48\"/>\n       <use x=\"286.279297\" xlink:href=\"#DejaVuSans-50\"/>\n       <use x=\"349.902344\" xlink:href=\"#DejaVuSans-48\"/>\n      </g>\n     </g>\n    </g>\n    <g id=\"ytick_5\">\n     <g id=\"line2d_11\">\n      <g>\n       <use style=\"stroke:#000000;stroke-width:0.8;\" x=\"69.23125\" xlink:href=\"#m0815a84668\" y=\"85.462759\"/>\n      </g>\n     </g>\n     <g id=\"text_11\">\n      <!-- 0.00025 -->\n      <g transform=\"translate(20.878125 89.261978)scale(0.1 -0.1)\">\n       <use xlink:href=\"#DejaVuSans-48\"/>\n       <use x=\"63.623047\" xlink:href=\"#DejaVuSans-46\"/>\n       <use x=\"95.410156\" xlink:href=\"#DejaVuSans-48\"/>\n       <use x=\"159.033203\" xlink:href=\"#DejaVuSans-48\"/>\n       <use x=\"222.65625\" xlink:href=\"#DejaVuSans-48\"/>\n       <use x=\"286.279297\" xlink:href=\"#DejaVuSans-50\"/>\n       <use x=\"349.902344\" xlink:href=\"#DejaVuSans-53\"/>\n      </g>\n     </g>\n    </g>\n    <g id=\"ytick_6\">\n     <g id=\"line2d_12\">\n      <g>\n       <use style=\"stroke:#000000;stroke-width:0.8;\" x=\"69.23125\" xlink:href=\"#m0815a84668\" y=\"57.428846\"/>\n      </g>\n     </g>\n     <g id=\"text_12\">\n      <!-- 0.00030 -->\n      <g transform=\"translate(20.878125 61.228065)scale(0.1 -0.1)\">\n       <use xlink:href=\"#DejaVuSans-48\"/>\n       <use x=\"63.623047\" xlink:href=\"#DejaVuSans-46\"/>\n       <use x=\"95.410156\" xlink:href=\"#DejaVuSans-48\"/>\n       <use x=\"159.033203\" xlink:href=\"#DejaVuSans-48\"/>\n       <use x=\"222.65625\" xlink:href=\"#DejaVuSans-48\"/>\n       <use x=\"286.279297\" xlink:href=\"#DejaVuSans-51\"/>\n       <use x=\"349.902344\" xlink:href=\"#DejaVuSans-48\"/>\n      </g>\n     </g>\n    </g>\n    <g id=\"ytick_7\">\n     <g id=\"line2d_13\">\n      <g>\n       <use style=\"stroke:#000000;stroke-width:0.8;\" x=\"69.23125\" xlink:href=\"#m0815a84668\" y=\"29.394933\"/>\n      </g>\n     </g>\n     <g id=\"text_13\">\n      <!-- 0.00035 -->\n      <g transform=\"translate(20.878125 33.194152)scale(0.1 -0.1)\">\n       <use xlink:href=\"#DejaVuSans-48\"/>\n       <use x=\"63.623047\" xlink:href=\"#DejaVuSans-46\"/>\n       <use x=\"95.410156\" xlink:href=\"#DejaVuSans-48\"/>\n       <use x=\"159.033203\" xlink:href=\"#DejaVuSans-48\"/>\n       <use x=\"222.65625\" xlink:href=\"#DejaVuSans-48\"/>\n       <use x=\"286.279297\" xlink:href=\"#DejaVuSans-51\"/>\n       <use x=\"349.902344\" xlink:href=\"#DejaVuSans-53\"/>\n      </g>\n     </g>\n    </g>\n    <g id=\"text_14\">\n     <!-- Density -->\n     <g transform=\"translate(14.798437 134.928594)rotate(-90)scale(0.1 -0.1)\">\n      <defs>\n       <path d=\"M 19.671875 64.796875 \nL 19.671875 8.109375 \nL 31.59375 8.109375 \nQ 46.6875 8.109375 53.6875 14.9375 \nQ 60.6875 21.78125 60.6875 36.53125 \nQ 60.6875 51.171875 53.6875 57.984375 \nQ 46.6875 64.796875 31.59375 64.796875 \nz\nM 9.8125 72.90625 \nL 30.078125 72.90625 \nQ 51.265625 72.90625 61.171875 64.09375 \nQ 71.09375 55.28125 71.09375 36.53125 \nQ 71.09375 17.671875 61.125 8.828125 \nQ 51.171875 0 30.078125 0 \nL 9.8125 0 \nz\n\" id=\"DejaVuSans-68\"/>\n       <path d=\"M 56.203125 29.59375 \nL 56.203125 25.203125 \nL 14.890625 25.203125 \nQ 15.484375 15.921875 20.484375 11.0625 \nQ 25.484375 6.203125 34.421875 6.203125 \nQ 39.59375 6.203125 44.453125 7.46875 \nQ 49.3125 8.734375 54.109375 11.28125 \nL 54.109375 2.78125 \nQ 49.265625 0.734375 44.1875 -0.34375 \nQ 39.109375 -1.421875 33.890625 -1.421875 \nQ 20.796875 -1.421875 13.15625 6.1875 \nQ 5.515625 13.8125 5.515625 26.8125 \nQ 5.515625 40.234375 12.765625 48.109375 \nQ 20.015625 56 32.328125 56 \nQ 43.359375 56 49.78125 48.890625 \nQ 56.203125 41.796875 56.203125 29.59375 \nz\nM 47.21875 32.234375 \nQ 47.125 39.59375 43.09375 43.984375 \nQ 39.0625 48.390625 32.421875 48.390625 \nQ 24.90625 48.390625 20.390625 44.140625 \nQ 15.875 39.890625 15.1875 32.171875 \nz\n\" id=\"DejaVuSans-101\"/>\n       <path d=\"M 54.890625 33.015625 \nL 54.890625 0 \nL 45.90625 0 \nL 45.90625 32.71875 \nQ 45.90625 40.484375 42.875 44.328125 \nQ 39.84375 48.1875 33.796875 48.1875 \nQ 26.515625 48.1875 22.3125 43.546875 \nQ 18.109375 38.921875 18.109375 30.90625 \nL 18.109375 0 \nL 9.078125 0 \nL 9.078125 54.6875 \nL 18.109375 54.6875 \nL 18.109375 46.1875 \nQ 21.34375 51.125 25.703125 53.5625 \nQ 30.078125 56 35.796875 56 \nQ 45.21875 56 50.046875 50.171875 \nQ 54.890625 44.34375 54.890625 33.015625 \nz\n\" id=\"DejaVuSans-110\"/>\n       <path d=\"M 44.28125 53.078125 \nL 44.28125 44.578125 \nQ 40.484375 46.53125 36.375 47.5 \nQ 32.28125 48.484375 27.875 48.484375 \nQ 21.1875 48.484375 17.84375 46.4375 \nQ 14.5 44.390625 14.5 40.28125 \nQ 14.5 37.15625 16.890625 35.375 \nQ 19.28125 33.59375 26.515625 31.984375 \nL 29.59375 31.296875 \nQ 39.15625 29.25 43.1875 25.515625 \nQ 47.21875 21.78125 47.21875 15.09375 \nQ 47.21875 7.46875 41.1875 3.015625 \nQ 35.15625 -1.421875 24.609375 -1.421875 \nQ 20.21875 -1.421875 15.453125 -0.5625 \nQ 10.6875 0.296875 5.421875 2 \nL 5.421875 11.28125 \nQ 10.40625 8.6875 15.234375 7.390625 \nQ 20.0625 6.109375 24.8125 6.109375 \nQ 31.15625 6.109375 34.5625 8.28125 \nQ 37.984375 10.453125 37.984375 14.40625 \nQ 37.984375 18.0625 35.515625 20.015625 \nQ 33.0625 21.96875 24.703125 23.78125 \nL 21.578125 24.515625 \nQ 13.234375 26.265625 9.515625 29.90625 \nQ 5.8125 33.546875 5.8125 39.890625 \nQ 5.8125 47.609375 11.28125 51.796875 \nQ 16.75 56 26.8125 56 \nQ 31.78125 56 36.171875 55.265625 \nQ 40.578125 54.546875 44.28125 53.078125 \nz\n\" id=\"DejaVuSans-115\"/>\n       <path d=\"M 9.421875 54.6875 \nL 18.40625 54.6875 \nL 18.40625 0 \nL 9.421875 0 \nz\nM 9.421875 75.984375 \nL 18.40625 75.984375 \nL 18.40625 64.59375 \nL 9.421875 64.59375 \nz\n\" id=\"DejaVuSans-105\"/>\n       <path d=\"M 18.3125 70.21875 \nL 18.3125 54.6875 \nL 36.8125 54.6875 \nL 36.8125 47.703125 \nL 18.3125 47.703125 \nL 18.3125 18.015625 \nQ 18.3125 11.328125 20.140625 9.421875 \nQ 21.96875 7.515625 27.59375 7.515625 \nL 36.8125 7.515625 \nL 36.8125 0 \nL 27.59375 0 \nQ 17.1875 0 13.234375 3.875 \nQ 9.28125 7.765625 9.28125 18.015625 \nL 9.28125 47.703125 \nL 2.6875 47.703125 \nL 2.6875 54.6875 \nL 9.28125 54.6875 \nL 9.28125 70.21875 \nz\n\" id=\"DejaVuSans-116\"/>\n       <path d=\"M 32.171875 -5.078125 \nQ 28.375 -14.84375 24.75 -17.8125 \nQ 21.140625 -20.796875 15.09375 -20.796875 \nL 7.90625 -20.796875 \nL 7.90625 -13.28125 \nL 13.1875 -13.28125 \nQ 16.890625 -13.28125 18.9375 -11.515625 \nQ 21 -9.765625 23.484375 -3.21875 \nL 25.09375 0.875 \nL 2.984375 54.6875 \nL 12.5 54.6875 \nL 29.59375 11.921875 \nL 46.6875 54.6875 \nL 56.203125 54.6875 \nz\n\" id=\"DejaVuSans-121\"/>\n      </defs>\n      <use xlink:href=\"#DejaVuSans-68\"/>\n      <use x=\"77.001953\" xlink:href=\"#DejaVuSans-101\"/>\n      <use x=\"138.525391\" xlink:href=\"#DejaVuSans-110\"/>\n      <use x=\"201.904297\" xlink:href=\"#DejaVuSans-115\"/>\n      <use x=\"254.003906\" xlink:href=\"#DejaVuSans-105\"/>\n      <use x=\"281.787109\" xlink:href=\"#DejaVuSans-116\"/>\n      <use x=\"320.996094\" xlink:href=\"#DejaVuSans-121\"/>\n     </g>\n    </g>\n   </g>\n   <g id=\"line2d_14\">\n    <path clip-path=\"url(#pf068548544)\" d=\"M 84.449432 210.030486 \nL 87.496115 207.553285 \nL 90.542798 204.774879 \nL 93.589481 201.674822 \nL 96.636164 198.233952 \nL 99.682847 194.434926 \nL 102.72953 190.262777 \nL 105.776213 185.705508 \nL 108.822896 180.754702 \nL 111.869579 175.406128 \nL 115.220931 169.064104 \nL 118.572282 162.249856 \nL 122.228302 154.297751 \nL 126.18899 145.112537 \nL 130.454346 134.628771 \nL 135.329039 122.029271 \nL 141.727073 104.823473 \nL 153.609137 72.769517 \nL 158.179162 61.174534 \nL 161.835181 52.484483 \nL 165.186533 45.108553 \nL 167.928547 39.570152 \nL 170.670562 34.53783 \nL 173.107908 30.531018 \nL 175.240587 27.412241 \nL 177.373265 24.675732 \nL 179.201275 22.647827 \nL 181.029284 20.923412 \nL 182.857294 19.510713 \nL 184.685304 18.416449 \nL 186.208646 17.751565 \nL 187.731987 17.313516 \nL 189.255329 17.103596 \nL 190.77867 17.122272 \nL 192.302012 17.369175 \nL 193.825353 17.843096 \nL 195.348695 18.541982 \nL 196.872036 19.462941 \nL 198.700046 20.855935 \nL 200.528056 22.55534 \nL 202.356066 24.551538 \nL 204.488744 27.240529 \nL 206.621422 30.297828 \nL 209.058768 34.213326 \nL 211.496115 38.541809 \nL 214.23813 43.853128 \nL 217.284813 50.228258 \nL 220.940832 58.409726 \nL 225.510857 69.20967 \nL 241.353609 107.18287 \nL 245.314297 115.835234 \nL 248.665648 122.662529 \nL 251.712331 128.419159 \nL 254.759014 133.710369 \nL 257.501029 138.054515 \nL 260.243044 141.992598 \nL 262.985058 145.522359 \nL 265.422405 148.320796 \nL 267.859751 150.80791 \nL 270.297098 152.995156 \nL 272.734444 154.897442 \nL 275.171791 156.532745 \nL 277.609137 157.9217 \nL 280.351152 159.218354 \nL 283.093166 160.267416 \nL 286.13985 161.187979 \nL 289.491201 161.963633 \nL 293.756557 162.700228 \nL 302.591938 163.901668 \nL 307.771299 164.753113 \nL 311.731987 165.616543 \nL 315.388007 166.63168 \nL 319.044026 167.887664 \nL 322.395378 169.26563 \nL 326.051397 171.021146 \nL 329.707417 173.034082 \nL 333.668105 175.486258 \nL 337.933461 178.406268 \nL 342.808154 182.031196 \nL 348.90152 186.857054 \nL 365.962945 200.540973 \nL 371.142307 204.334157 \nL 376.016999 207.626488 \nL 380.587024 210.4339 \nL 384.85238 212.794178 \nL 388.813068 214.756364 \nL 388.813068 214.756364 \n\" style=\"fill:none;stroke:#1f77b4;stroke-linecap:square;stroke-width:1.5;\"/>\n   </g>\n   <g id=\"patch_3\">\n    <path d=\"M 69.23125 224.64 \nL 69.23125 7.2 \n\" style=\"fill:none;stroke:#000000;stroke-linecap:square;stroke-linejoin:miter;stroke-width:0.8;\"/>\n   </g>\n   <g id=\"patch_4\">\n    <path d=\"M 404.03125 224.64 \nL 404.03125 7.2 \n\" style=\"fill:none;stroke:#000000;stroke-linecap:square;stroke-linejoin:miter;stroke-width:0.8;\"/>\n   </g>\n   <g id=\"patch_5\">\n    <path d=\"M 69.23125 224.64 \nL 404.03125 224.64 \n\" style=\"fill:none;stroke:#000000;stroke-linecap:square;stroke-linejoin:miter;stroke-width:0.8;\"/>\n   </g>\n   <g id=\"patch_6\">\n    <path d=\"M 69.23125 7.2 \nL 404.03125 7.2 \n\" style=\"fill:none;stroke:#000000;stroke-linecap:square;stroke-linejoin:miter;stroke-width:0.8;\"/>\n   </g>\n  </g>\n </g>\n <defs>\n  <clipPath id=\"pf068548544\">\n   <rect height=\"217.44\" width=\"334.8\" x=\"69.23125\" y=\"7.2\"/>\n  </clipPath>\n </defs>\n</svg>\n",
      "image/png": "[encoded data removed]"
     },
     "metadata": {
      "needs_background": "light"
     }
    }
   ],
   "source": [
    "work_type_counts.plot.density()"
   ]
  },
  {
   "source": [
    "Looks like there isn't binning worth in work_types field"
   ],
   "cell_type": "markdown",
   "metadata": {}
  },
  {
   "source": [
    "## Classify the data"
   ],
   "cell_type": "markdown",
   "metadata": {}
  },
  {
   "cell_type": "code",
   "execution_count": 7,
   "metadata": {},
   "outputs": [],
   "source": [
    "# Generate categorical variable list\n",
    "stroke_cat = stroke_df.dtypes[stroke_df.dtypes == \"object\"].index.tolist()"
   ]
  },
  {
   "cell_type": "code",
   "execution_count": 8,
   "metadata": {},
   "outputs": [
    {
     "output_type": "execute_result",
     "data": {
      "text/plain": [
       "   gender_Female  gender_Male  gender_Other  ever_married_No  \\\n",
       "0            0.0          1.0           0.0              0.0   \n",
       "1            1.0          0.0           0.0              0.0   \n",
       "2            0.0          1.0           0.0              0.0   \n",
       "3            1.0          0.0           0.0              0.0   \n",
       "4            1.0          0.0           0.0              0.0   \n",
       "\n",
       "   ever_married_Yes  work_type_Govt_job  work_type_Never_worked  \\\n",
       "0               1.0                 0.0                     0.0   \n",
       "1               1.0                 0.0                     0.0   \n",
       "2               1.0                 0.0                     0.0   \n",
       "3               1.0                 0.0                     0.0   \n",
       "4               1.0                 0.0                     0.0   \n",
       "\n",
       "   work_type_Private  work_type_Self-employed  work_type_children  \\\n",
       "0                1.0                      0.0                 0.0   \n",
       "1                0.0                      1.0                 0.0   \n",
       "2                1.0                      0.0                 0.0   \n",
       "3                1.0                      0.0                 0.0   \n",
       "4                0.0                      1.0                 0.0   \n",
       "\n",
       "   Residence_type_Rural  Residence_type_Urban  smoking_status_Unknown  \\\n",
       "0                   0.0                   1.0                     0.0   \n",
       "1                   1.0                   0.0                     0.0   \n",
       "2                   1.0                   0.0                     0.0   \n",
       "3                   0.0                   1.0                     0.0   \n",
       "4                   1.0                   0.0                     0.0   \n",
       "\n",
       "   smoking_status_formerly smoked  smoking_status_never smoked  \\\n",
       "0                             1.0                          0.0   \n",
       "1                             0.0                          1.0   \n",
       "2                             0.0                          1.0   \n",
       "3                             0.0                          0.0   \n",
       "4                             0.0                          1.0   \n",
       "\n",
       "   smoking_status_smokes  \n",
       "0                    0.0  \n",
       "1                    0.0  \n",
       "2                    0.0  \n",
       "3                    1.0  \n",
       "4                    0.0  "
      ],
      "text/html": "<div>\n<style scoped>\n    .dataframe tbody tr th:only-of-type {\n        vertical-align: middle;\n    }\n\n    .dataframe tbody tr th {\n        vertical-align: top;\n    }\n\n    .dataframe thead th {\n        text-align: right;\n    }\n</style>\n<table border=\"1\" class=\"dataframe\">\n  <thead>\n    <tr style=\"text-align: right;\">\n      <th></th>\n      <th>gender_Female</th>\n      <th>gender_Male</th>\n      <th>gender_Other</th>\n      <th>ever_married_No</th>\n      <th>ever_married_Yes</th>\n      <th>work_type_Govt_job</th>\n      <th>work_type_Never_worked</th>\n      <th>work_type_Private</th>\n      <th>work_type_Self-employed</th>\n      <th>work_type_children</th>\n      <th>Residence_type_Rural</th>\n      <th>Residence_type_Urban</th>\n      <th>smoking_status_Unknown</th>\n      <th>smoking_status_formerly smoked</th>\n      <th>smoking_status_never smoked</th>\n      <th>smoking_status_smokes</th>\n    </tr>\n  </thead>\n  <tbody>\n    <tr>\n      <th>0</th>\n      <td>0.0</td>\n      <td>1.0</td>\n      <td>0.0</td>\n      <td>0.0</td>\n      <td>1.0</td>\n      <td>0.0</td>\n      <td>0.0</td>\n      <td>1.0</td>\n      <td>0.0</td>\n      <td>0.0</td>\n      <td>0.0</td>\n      <td>1.0</td>\n      <td>0.0</td>\n      <td>1.0</td>\n      <td>0.0</td>\n      <td>0.0</td>\n    </tr>\n    <tr>\n      <th>1</th>\n      <td>1.0</td>\n      <td>0.0</td>\n      <td>0.0</td>\n      <td>0.0</td>\n      <td>1.0</td>\n      <td>0.0</td>\n      <td>0.0</td>\n      <td>0.0</td>\n      <td>1.0</td>\n      <td>0.0</td>\n      <td>1.0</td>\n      <td>0.0</td>\n      <td>0.0</td>\n      <td>0.0</td>\n      <td>1.0</td>\n      <td>0.0</td>\n    </tr>\n    <tr>\n      <th>2</th>\n      <td>0.0</td>\n      <td>1.0</td>\n      <td>0.0</td>\n      <td>0.0</td>\n      <td>1.0</td>\n      <td>0.0</td>\n      <td>0.0</td>\n      <td>1.0</td>\n      <td>0.0</td>\n      <td>0.0</td>\n      <td>1.0</td>\n      <td>0.0</td>\n      <td>0.0</td>\n      <td>0.0</td>\n      <td>1.0</td>\n      <td>0.0</td>\n    </tr>\n    <tr>\n      <th>3</th>\n      <td>1.0</td>\n      <td>0.0</td>\n      <td>0.0</td>\n      <td>0.0</td>\n      <td>1.0</td>\n      <td>0.0</td>\n      <td>0.0</td>\n      <td>1.0</td>\n      <td>0.0</td>\n      <td>0.0</td>\n      <td>0.0</td>\n      <td>1.0</td>\n      <td>0.0</td>\n      <td>0.0</td>\n      <td>0.0</td>\n      <td>1.0</td>\n    </tr>\n    <tr>\n      <th>4</th>\n      <td>1.0</td>\n      <td>0.0</td>\n      <td>0.0</td>\n      <td>0.0</td>\n      <td>1.0</td>\n      <td>0.0</td>\n      <td>0.0</td>\n      <td>0.0</td>\n      <td>1.0</td>\n      <td>0.0</td>\n      <td>1.0</td>\n      <td>0.0</td>\n      <td>0.0</td>\n      <td>0.0</td>\n      <td>1.0</td>\n      <td>0.0</td>\n    </tr>\n  </tbody>\n</table>\n</div>"
     },
     "metadata": {},
     "execution_count": 8
    }
   ],
   "source": [
    "# Create a OneHotEncoder instance\n",
    "enc = OneHotEncoder(sparse=False)\n",
    "\n",
    "# Fit and transform the OneHotEncoder using the categorical variable list\n",
    "encode_df = pd.DataFrame(enc.fit_transform(stroke_df[stroke_cat]))\n",
    "\n",
    "# Add the encoded variable names to the dataframe\n",
    "encode_df.columns = enc.get_feature_names(stroke_cat)\n",
    "encode_df.head()"
   ]
  },
  {
   "cell_type": "code",
   "execution_count": 9,
   "metadata": {},
   "outputs": [
    {
     "output_type": "execute_result",
     "data": {
      "text/plain": [
       "    age  hypertension  heart_disease  avg_glucose_level   bmi  stroke  \\\n",
       "0  67.0             0              1             228.69  36.6       1   \n",
       "1  61.0             0              0             202.21   NaN       1   \n",
       "2  80.0             0              1             105.92  32.5       1   \n",
       "3  49.0             0              0             171.23  34.4       1   \n",
       "4  79.0             1              0             174.12  24.0       1   \n",
       "\n",
       "   gender_Female  gender_Male  gender_Other  ever_married_No  ...  \\\n",
       "0            0.0          1.0           0.0              0.0  ...   \n",
       "1            1.0          0.0           0.0              0.0  ...   \n",
       "2            0.0          1.0           0.0              0.0  ...   \n",
       "3            1.0          0.0           0.0              0.0  ...   \n",
       "4            1.0          0.0           0.0              0.0  ...   \n",
       "\n",
       "   work_type_Never_worked  work_type_Private  work_type_Self-employed  \\\n",
       "0                     0.0                1.0                      0.0   \n",
       "1                     0.0                0.0                      1.0   \n",
       "2                     0.0                1.0                      0.0   \n",
       "3                     0.0                1.0                      0.0   \n",
       "4                     0.0                0.0                      1.0   \n",
       "\n",
       "   work_type_children  Residence_type_Rural  Residence_type_Urban  \\\n",
       "0                 0.0                   0.0                   1.0   \n",
       "1                 0.0                   1.0                   0.0   \n",
       "2                 0.0                   1.0                   0.0   \n",
       "3                 0.0                   0.0                   1.0   \n",
       "4                 0.0                   1.0                   0.0   \n",
       "\n",
       "   smoking_status_Unknown  smoking_status_formerly smoked  \\\n",
       "0                     0.0                             1.0   \n",
       "1                     0.0                             0.0   \n",
       "2                     0.0                             0.0   \n",
       "3                     0.0                             0.0   \n",
       "4                     0.0                             0.0   \n",
       "\n",
       "   smoking_status_never smoked  smoking_status_smokes  \n",
       "0                          0.0                    0.0  \n",
       "1                          1.0                    0.0  \n",
       "2                          1.0                    0.0  \n",
       "3                          0.0                    1.0  \n",
       "4                          1.0                    0.0  \n",
       "\n",
       "[5 rows x 22 columns]"
      ],
      "text/html": "<div>\n<style scoped>\n    .dataframe tbody tr th:only-of-type {\n        vertical-align: middle;\n    }\n\n    .dataframe tbody tr th {\n        vertical-align: top;\n    }\n\n    .dataframe thead th {\n        text-align: right;\n    }\n</style>\n<table border=\"1\" class=\"dataframe\">\n  <thead>\n    <tr style=\"text-align: right;\">\n      <th></th>\n      <th>age</th>\n      <th>hypertension</th>\n      <th>heart_disease</th>\n      <th>avg_glucose_level</th>\n      <th>bmi</th>\n      <th>stroke</th>\n      <th>gender_Female</th>\n      <th>gender_Male</th>\n      <th>gender_Other</th>\n      <th>ever_married_No</th>\n      <th>...</th>\n      <th>work_type_Never_worked</th>\n      <th>work_type_Private</th>\n      <th>work_type_Self-employed</th>\n      <th>work_type_children</th>\n      <th>Residence_type_Rural</th>\n      <th>Residence_type_Urban</th>\n      <th>smoking_status_Unknown</th>\n      <th>smoking_status_formerly smoked</th>\n      <th>smoking_status_never smoked</th>\n      <th>smoking_status_smokes</th>\n    </tr>\n  </thead>\n  <tbody>\n    <tr>\n      <th>0</th>\n      <td>67.0</td>\n      <td>0</td>\n      <td>1</td>\n      <td>228.69</td>\n      <td>36.6</td>\n      <td>1</td>\n      <td>0.0</td>\n      <td>1.0</td>\n      <td>0.0</td>\n      <td>0.0</td>\n      <td>...</td>\n      <td>0.0</td>\n      <td>1.0</td>\n      <td>0.0</td>\n      <td>0.0</td>\n      <td>0.0</td>\n      <td>1.0</td>\n      <td>0.0</td>\n      <td>1.0</td>\n      <td>0.0</td>\n      <td>0.0</td>\n    </tr>\n    <tr>\n      <th>1</th>\n      <td>61.0</td>\n      <td>0</td>\n      <td>0</td>\n      <td>202.21</td>\n      <td>NaN</td>\n      <td>1</td>\n      <td>1.0</td>\n      <td>0.0</td>\n      <td>0.0</td>\n      <td>0.0</td>\n      <td>...</td>\n      <td>0.0</td>\n      <td>0.0</td>\n      <td>1.0</td>\n      <td>0.0</td>\n      <td>1.0</td>\n      <td>0.0</td>\n      <td>0.0</td>\n      <td>0.0</td>\n      <td>1.0</td>\n      <td>0.0</td>\n    </tr>\n    <tr>\n      <th>2</th>\n      <td>80.0</td>\n      <td>0</td>\n      <td>1</td>\n      <td>105.92</td>\n      <td>32.5</td>\n      <td>1</td>\n      <td>0.0</td>\n      <td>1.0</td>\n      <td>0.0</td>\n      <td>0.0</td>\n      <td>...</td>\n      <td>0.0</td>\n      <td>1.0</td>\n      <td>0.0</td>\n      <td>0.0</td>\n      <td>1.0</td>\n      <td>0.0</td>\n      <td>0.0</td>\n      <td>0.0</td>\n      <td>1.0</td>\n      <td>0.0</td>\n    </tr>\n    <tr>\n      <th>3</th>\n      <td>49.0</td>\n      <td>0</td>\n      <td>0</td>\n      <td>171.23</td>\n      <td>34.4</td>\n      <td>1</td>\n      <td>1.0</td>\n      <td>0.0</td>\n      <td>0.0</td>\n      <td>0.0</td>\n      <td>...</td>\n      <td>0.0</td>\n      <td>1.0</td>\n      <td>0.0</td>\n      <td>0.0</td>\n      <td>0.0</td>\n      <td>1.0</td>\n      <td>0.0</td>\n      <td>0.0</td>\n      <td>0.0</td>\n      <td>1.0</td>\n    </tr>\n    <tr>\n      <th>4</th>\n      <td>79.0</td>\n      <td>1</td>\n      <td>0</td>\n      <td>174.12</td>\n      <td>24.0</td>\n      <td>1</td>\n      <td>1.0</td>\n      <td>0.0</td>\n      <td>0.0</td>\n      <td>0.0</td>\n      <td>...</td>\n      <td>0.0</td>\n      <td>0.0</td>\n      <td>1.0</td>\n      <td>0.0</td>\n      <td>1.0</td>\n      <td>0.0</td>\n      <td>0.0</td>\n      <td>0.0</td>\n      <td>1.0</td>\n      <td>0.0</td>\n    </tr>\n  </tbody>\n</table>\n<p>5 rows × 22 columns</p>\n</div>"
     },
     "metadata": {},
     "execution_count": 9
    }
   ],
   "source": [
    "# Merge one-hot encoded features and drop the originals\n",
    "stroke_df = stroke_df.merge(encode_df, left_index=True, right_index=True)\n",
    "stroke_df = stroke_df.drop(stroke_cat, 1)\n",
    "stroke_df.head()"
   ]
  },
  {
   "source": [
    "## Build the model"
   ],
   "cell_type": "markdown",
   "metadata": {}
  },
  {
   "cell_type": "code",
   "execution_count": 10,
   "metadata": {},
   "outputs": [],
   "source": [
    "# Split our preprocessed data into our features and target arrays\n",
    "y = stroke_df.stroke\n",
    "X = stroke_df.drop(columns=['stroke'])\n",
    "\n",
    "# Split the preprocessed data into a training and testing dataset\n",
    "X_train, X_test, y_train, y_test = train_test_split(X, y, random_state=100)"
   ]
  },
  {
   "cell_type": "code",
   "execution_count": 11,
   "metadata": {},
   "outputs": [],
   "source": [
    "# Create a StandardScaler instances\n",
    "scaler = StandardScaler()\n",
    "\n",
    "# Fit the StandardScaler\n",
    "X_scaler = scaler.fit(X_train)\n",
    "\n",
    "# Scale the data\n",
    "X_train_scaled = X_scaler.transform(X_train)\n",
    "X_test_scaled = X_scaler.transform(X_test)"
   ]
  },
  {
   "cell_type": "code",
   "execution_count": 12,
   "metadata": {},
   "outputs": [],
   "source": [
    "# Create a checkpoint of the model\n",
    "checkpoint_filepath = 'resources/model/checkpoints/stroke_data_analysis.h5'\n",
    "checkpoint_callback = tf.keras.callbacks.ModelCheckpoint(\n",
    "    filepath=checkpoint_filepath,\n",
    "    save_weights_only=True,\n",
    "    monitor='accuracy', \n",
    "    mode='max',\n",
    "    save_best_only=True,\n",
    "    save_freq=5,\n",
    "    verbrose=1\n",
    ")"
   ]
  },
  {
   "cell_type": "code",
   "execution_count": 13,
   "metadata": {},
   "outputs": [
    {
     "output_type": "stream",
     "name": "stdout",
     "text": [
      "Model: \"sequential\"\n_________________________________________________________________\nLayer (type)                 Output Shape              Param #   \n=================================================================\ndense (Dense)                (None, 42)                924       \n_________________________________________________________________\ndense_1 (Dense)              (None, 21)                903       \n_________________________________________________________________\ndense_2 (Dense)              (None, 1)                 22        \n=================================================================\nTotal params: 1,849\nTrainable params: 1,849\nNon-trainable params: 0\n_________________________________________________________________\n"
     ]
    }
   ],
   "source": [
    "# Define the model - deep neural net, i.e., the number of input features and hidden nodes for each layer.\n",
    "number_input_features = len(X.columns)\n",
    "\n",
    "nn = tf.keras.models.Sequential()\n",
    "\n",
    "# First hidden layer\n",
    "nn.add(\n",
    "    Dense(\n",
    "        units=number_input_features * 2,\n",
    "        input_dim=number_input_features,\n",
    "        activation='relu'\n",
    "    )\n",
    ")\n",
    "\n",
    "# Second hidden layer\n",
    "nn.add(\n",
    "    Dense(\n",
    "        units=number_input_features,\n",
    "        activation='relu'\n",
    "    )\n",
    ")\n",
    "\n",
    "# Output layer\n",
    "nn.add(\n",
    "    Dense(\n",
    "        units=1,\n",
    "        activation='sigmoid'\n",
    "    )\n",
    ")\n",
    "\n",
    "# Check the structure of the model\n",
    "nn.summary()"
   ]
  },
  {
   "cell_type": "code",
   "execution_count": 14,
   "metadata": {},
   "outputs": [
    {
     "output_type": "stream",
     "name": "stdout",
     "text": [
      "Epoch 1/100\n",
      "120/120 [==============================] - 1s 6ms/step - loss: nan - accuracy: 0.9439\n",
      "Epoch 2/100\n",
      "120/120 [==============================] - 0s 2ms/step - loss: nan - accuracy: 0.9496\n",
      "Epoch 3/100\n",
      "120/120 [==============================] - 0s 1ms/step - loss: nan - accuracy: 0.9496\n",
      "Epoch 4/100\n",
      "120/120 [==============================] - 0s 1ms/step - loss: nan - accuracy: 0.9496\n",
      "Epoch 5/100\n",
      "120/120 [==============================] - 0s 1ms/step - loss: nan - accuracy: 0.9496\n",
      "Epoch 6/100\n",
      "120/120 [==============================] - 0s 1ms/step - loss: nan - accuracy: 0.9496\n",
      "Epoch 7/100\n",
      "120/120 [==============================] - 0s 1ms/step - loss: nan - accuracy: 0.9496\n",
      "Epoch 8/100\n",
      "120/120 [==============================] - 0s 1ms/step - loss: nan - accuracy: 0.9496\n",
      "Epoch 9/100\n",
      "120/120 [==============================] - 0s 1ms/step - loss: nan - accuracy: 0.9496\n",
      "Epoch 10/100\n",
      "120/120 [==============================] - 0s 1ms/step - loss: nan - accuracy: 0.9496\n",
      "Epoch 11/100\n",
      "120/120 [==============================] - 0s 1ms/step - loss: nan - accuracy: 0.9496\n",
      "Epoch 12/100\n",
      "120/120 [==============================] - 0s 1ms/step - loss: nan - accuracy: 0.9496\n",
      "Epoch 13/100\n",
      "120/120 [==============================] - 0s 1ms/step - loss: nan - accuracy: 0.9496\n",
      "Epoch 14/100\n",
      "120/120 [==============================] - 0s 1ms/step - loss: nan - accuracy: 0.9496\n",
      "Epoch 15/100\n",
      "120/120 [==============================] - 0s 1ms/step - loss: nan - accuracy: 0.9496\n",
      "Epoch 16/100\n",
      "120/120 [==============================] - 0s 1ms/step - loss: nan - accuracy: 0.9496\n",
      "Epoch 17/100\n",
      "120/120 [==============================] - 0s 1ms/step - loss: nan - accuracy: 0.9496\n",
      "Epoch 18/100\n",
      "120/120 [==============================] - 0s 1ms/step - loss: nan - accuracy: 0.9496\n",
      "Epoch 19/100\n",
      "120/120 [==============================] - 0s 1ms/step - loss: nan - accuracy: 0.9496\n",
      "Epoch 20/100\n",
      "120/120 [==============================] - 0s 1ms/step - loss: nan - accuracy: 0.9496\n",
      "Epoch 21/100\n",
      "120/120 [==============================] - 0s 1ms/step - loss: nan - accuracy: 0.9496\n",
      "Epoch 22/100\n",
      "120/120 [==============================] - 0s 1ms/step - loss: nan - accuracy: 0.9496\n",
      "Epoch 23/100\n",
      "120/120 [==============================] - 0s 1ms/step - loss: nan - accuracy: 0.9496\n",
      "Epoch 24/100\n",
      "120/120 [==============================] - 0s 1ms/step - loss: nan - accuracy: 0.9496\n",
      "Epoch 25/100\n",
      "120/120 [==============================] - 0s 1ms/step - loss: nan - accuracy: 0.9496\n",
      "Epoch 26/100\n",
      "120/120 [==============================] - 0s 1ms/step - loss: nan - accuracy: 0.9496\n",
      "Epoch 27/100\n",
      "120/120 [==============================] - 0s 1ms/step - loss: nan - accuracy: 0.9496\n",
      "Epoch 28/100\n",
      "120/120 [==============================] - 0s 1ms/step - loss: nan - accuracy: 0.9496\n",
      "Epoch 29/100\n",
      "120/120 [==============================] - 0s 1ms/step - loss: nan - accuracy: 0.9496\n",
      "Epoch 30/100\n",
      "120/120 [==============================] - 0s 1ms/step - loss: nan - accuracy: 0.9496\n",
      "Epoch 31/100\n",
      "120/120 [==============================] - 0s 1ms/step - loss: nan - accuracy: 0.9496\n",
      "Epoch 32/100\n",
      "120/120 [==============================] - 0s 1ms/step - loss: nan - accuracy: 0.9496\n",
      "Epoch 33/100\n",
      "120/120 [==============================] - 0s 1ms/step - loss: nan - accuracy: 0.9496\n",
      "Epoch 34/100\n",
      "120/120 [==============================] - 0s 1ms/step - loss: nan - accuracy: 0.9496\n",
      "Epoch 35/100\n",
      "120/120 [==============================] - 0s 1ms/step - loss: nan - accuracy: 0.9496\n",
      "Epoch 36/100\n",
      "120/120 [==============================] - 0s 1ms/step - loss: nan - accuracy: 0.9496\n",
      "Epoch 37/100\n",
      "120/120 [==============================] - 0s 1ms/step - loss: nan - accuracy: 0.9496\n",
      "Epoch 38/100\n",
      "120/120 [==============================] - 0s 1ms/step - loss: nan - accuracy: 0.9496\n",
      "Epoch 39/100\n",
      "120/120 [==============================] - 0s 1ms/step - loss: nan - accuracy: 0.9496\n",
      "Epoch 40/100\n",
      "120/120 [==============================] - 0s 1ms/step - loss: nan - accuracy: 0.9496\n",
      "Epoch 41/100\n",
      "120/120 [==============================] - 0s 1ms/step - loss: nan - accuracy: 0.9496\n",
      "Epoch 42/100\n",
      "120/120 [==============================] - 0s 1ms/step - loss: nan - accuracy: 0.9496\n",
      "Epoch 43/100\n",
      "120/120 [==============================] - 0s 1ms/step - loss: nan - accuracy: 0.9496\n",
      "Epoch 44/100\n",
      "120/120 [==============================] - 0s 1ms/step - loss: nan - accuracy: 0.9496\n",
      "Epoch 45/100\n",
      "120/120 [==============================] - 0s 1ms/step - loss: nan - accuracy: 0.9496\n",
      "Epoch 46/100\n",
      "120/120 [==============================] - 0s 1ms/step - loss: nan - accuracy: 0.9496\n",
      "Epoch 47/100\n",
      "120/120 [==============================] - 0s 1ms/step - loss: nan - accuracy: 0.9496\n",
      "Epoch 48/100\n",
      "120/120 [==============================] - 0s 1ms/step - loss: nan - accuracy: 0.9496\n",
      "Epoch 49/100\n",
      "120/120 [==============================] - 0s 1ms/step - loss: nan - accuracy: 0.9496\n",
      "Epoch 50/100\n",
      "120/120 [==============================] - 0s 1ms/step - loss: nan - accuracy: 0.9496\n",
      "Epoch 51/100\n",
      "120/120 [==============================] - 0s 1ms/step - loss: nan - accuracy: 0.9496\n",
      "Epoch 52/100\n",
      "120/120 [==============================] - 0s 1ms/step - loss: nan - accuracy: 0.9496\n",
      "Epoch 53/100\n",
      "120/120 [==============================] - 0s 1ms/step - loss: nan - accuracy: 0.9496\n",
      "Epoch 54/100\n",
      "120/120 [==============================] - 0s 1ms/step - loss: nan - accuracy: 0.9496\n",
      "Epoch 55/100\n",
      "120/120 [==============================] - 0s 1ms/step - loss: nan - accuracy: 0.9496\n",
      "Epoch 56/100\n",
      "120/120 [==============================] - 0s 1ms/step - loss: nan - accuracy: 0.9496\n",
      "Epoch 57/100\n",
      "120/120 [==============================] - 0s 1ms/step - loss: nan - accuracy: 0.9496\n",
      "Epoch 58/100\n",
      "120/120 [==============================] - 0s 1ms/step - loss: nan - accuracy: 0.9496\n",
      "Epoch 59/100\n",
      "120/120 [==============================] - 0s 1ms/step - loss: nan - accuracy: 0.9496\n",
      "Epoch 60/100\n",
      "120/120 [==============================] - 0s 1ms/step - loss: nan - accuracy: 0.9496\n",
      "Epoch 61/100\n",
      "120/120 [==============================] - 0s 1ms/step - loss: nan - accuracy: 0.9496\n",
      "Epoch 62/100\n",
      "120/120 [==============================] - 0s 1ms/step - loss: nan - accuracy: 0.9496\n",
      "Epoch 63/100\n",
      "120/120 [==============================] - 0s 1ms/step - loss: nan - accuracy: 0.9496\n",
      "Epoch 64/100\n",
      "120/120 [==============================] - 0s 1ms/step - loss: nan - accuracy: 0.9496\n",
      "Epoch 65/100\n",
      "120/120 [==============================] - 0s 1ms/step - loss: nan - accuracy: 0.9496\n",
      "Epoch 66/100\n",
      "120/120 [==============================] - 0s 1ms/step - loss: nan - accuracy: 0.9496\n",
      "Epoch 67/100\n",
      "120/120 [==============================] - 0s 1ms/step - loss: nan - accuracy: 0.9496\n",
      "Epoch 68/100\n",
      "120/120 [==============================] - 0s 1ms/step - loss: nan - accuracy: 0.9496\n",
      "Epoch 69/100\n",
      "120/120 [==============================] - 0s 1ms/step - loss: nan - accuracy: 0.9496\n",
      "Epoch 70/100\n",
      "120/120 [==============================] - 0s 1ms/step - loss: nan - accuracy: 0.9496\n",
      "Epoch 71/100\n",
      "120/120 [==============================] - 0s 1ms/step - loss: nan - accuracy: 0.9496\n",
      "Epoch 72/100\n",
      "120/120 [==============================] - 0s 1ms/step - loss: nan - accuracy: 0.9496\n",
      "Epoch 73/100\n",
      "120/120 [==============================] - 0s 1ms/step - loss: nan - accuracy: 0.9496\n",
      "Epoch 74/100\n",
      "120/120 [==============================] - 0s 1ms/step - loss: nan - accuracy: 0.9496\n",
      "Epoch 75/100\n",
      "120/120 [==============================] - 0s 1ms/step - loss: nan - accuracy: 0.9496\n",
      "Epoch 76/100\n",
      "120/120 [==============================] - 0s 1ms/step - loss: nan - accuracy: 0.9496\n",
      "Epoch 77/100\n",
      "120/120 [==============================] - 0s 1ms/step - loss: nan - accuracy: 0.9496\n",
      "Epoch 78/100\n",
      "120/120 [==============================] - 0s 1ms/step - loss: nan - accuracy: 0.9496\n",
      "Epoch 79/100\n",
      "120/120 [==============================] - 0s 1ms/step - loss: nan - accuracy: 0.9496\n",
      "Epoch 80/100\n",
      "120/120 [==============================] - 0s 1ms/step - loss: nan - accuracy: 0.9496\n",
      "Epoch 81/100\n",
      "120/120 [==============================] - 0s 1ms/step - loss: nan - accuracy: 0.9496\n",
      "Epoch 82/100\n",
      "120/120 [==============================] - 0s 1ms/step - loss: nan - accuracy: 0.9496\n",
      "Epoch 83/100\n",
      "120/120 [==============================] - 0s 1ms/step - loss: nan - accuracy: 0.9496\n",
      "Epoch 84/100\n",
      "120/120 [==============================] - 0s 1ms/step - loss: nan - accuracy: 0.9496\n",
      "Epoch 85/100\n",
      "120/120 [==============================] - 0s 1ms/step - loss: nan - accuracy: 0.9496\n",
      "Epoch 86/100\n",
      "120/120 [==============================] - 0s 1ms/step - loss: nan - accuracy: 0.9496\n",
      "Epoch 87/100\n",
      "120/120 [==============================] - 0s 1ms/step - loss: nan - accuracy: 0.9496\n",
      "Epoch 88/100\n",
      "120/120 [==============================] - 0s 1ms/step - loss: nan - accuracy: 0.9496\n",
      "Epoch 89/100\n",
      "120/120 [==============================] - 0s 1ms/step - loss: nan - accuracy: 0.9496\n",
      "Epoch 90/100\n",
      "120/120 [==============================] - 0s 1ms/step - loss: nan - accuracy: 0.9496\n",
      "Epoch 91/100\n",
      "120/120 [==============================] - 0s 1ms/step - loss: nan - accuracy: 0.9496\n",
      "Epoch 92/100\n",
      "120/120 [==============================] - 0s 1ms/step - loss: nan - accuracy: 0.9496\n",
      "Epoch 93/100\n",
      "120/120 [==============================] - 0s 1ms/step - loss: nan - accuracy: 0.9496\n",
      "Epoch 94/100\n",
      "120/120 [==============================] - 0s 1ms/step - loss: nan - accuracy: 0.9496\n",
      "Epoch 95/100\n",
      "120/120 [==============================] - 0s 1ms/step - loss: nan - accuracy: 0.9496\n",
      "Epoch 96/100\n",
      "120/120 [==============================] - 0s 1ms/step - loss: nan - accuracy: 0.9496\n",
      "Epoch 97/100\n",
      "120/120 [==============================] - 0s 1ms/step - loss: nan - accuracy: 0.9496\n",
      "Epoch 98/100\n",
      "120/120 [==============================] - 0s 1ms/step - loss: nan - accuracy: 0.9496\n",
      "Epoch 99/100\n",
      "120/120 [==============================] - 0s 1ms/step - loss: nan - accuracy: 0.9496\n",
      "Epoch 100/100\n",
      "120/120 [==============================] - 0s 1ms/step - loss: nan - accuracy: 0.9496\n"
     ]
    },
    {
     "output_type": "execute_result",
     "data": {
      "text/plain": [
       "<tensorflow.python.keras.callbacks.History at 0x7f4adc38dd10>"
      ]
     },
     "metadata": {},
     "execution_count": 14
    }
   ],
   "source": [
    "# Compile the model\n",
    "nn.compile(loss=\"mean_squared_error\", optimizer=\"adam\", metrics=[\"accuracy\"])\n",
    "\n",
    "# Fit the model\n",
    "nn.fit(\n",
    "    X_train_scaled, \n",
    "    np.asarray(y_train), \n",
    "    epochs=100,\n",
    "    callbacks=checkpoint_callback\n",
    ")"
   ]
  },
  {
   "cell_type": "code",
   "execution_count": 15,
   "metadata": {},
   "outputs": [
    {
     "output_type": "stream",
     "name": "stdout",
     "text": [
      "40/40 - 0s - loss: nan - accuracy: 0.9562\n",
      "Loss: nan, Accuracy: 0.956181526184082\n"
     ]
    }
   ],
   "source": [
    "# The model weights (that are considered the best) are loaded into the model.\n",
    "nn.load_weights(checkpoint_filepath)\n",
    "\n",
    "# Check accuracy\n",
    "model_loss, model_accuracy = nn.evaluate(X_test_scaled,y_test,verbose=2)\n",
    "print(f\"Loss: {model_loss}, Accuracy: {model_accuracy}\")"
   ]
  },
  {
   "cell_type": "code",
   "execution_count": 16,
   "metadata": {},
   "outputs": [],
   "source": [
    "# Save the model\n",
    "nn.save('resources/model/stroke_data_analysis.h5')"
   ]
  },
  {
   "cell_type": "code",
   "execution_count": 18,
   "metadata": {},
   "outputs": [
    {
     "output_type": "execute_result",
     "data": {
      "text/plain": [
       "stroke                            1.000000\n",
       "age                               0.245257\n",
       "heart_disease                     0.134914\n",
       "avg_glucose_level                 0.131945\n",
       "hypertension                      0.127904\n",
       "ever_married_Yes                  0.108340\n",
       "smoking_status_formerly smoked    0.064556\n",
       "work_type_Self-employed           0.062168\n",
       "bmi                               0.042374\n",
       "Residence_type_Urban              0.015458\n",
       "work_type_Private                 0.011888\n",
       "gender_Male                       0.009117\n",
       "smoking_status_smokes             0.008939\n",
       "work_type_Govt_job                0.002677\n",
       "gender_Other                     -0.003166\n",
       "smoking_status_never smoked      -0.004129\n",
       "gender_Female                    -0.009027\n",
       "work_type_Never_worked           -0.014882\n",
       "Residence_type_Rural             -0.015458\n",
       "smoking_status_Unknown           -0.055892\n",
       "work_type_children               -0.083869\n",
       "ever_married_No                  -0.108340\n",
       "Name: stroke, dtype: float64"
      ]
     },
     "metadata": {},
     "execution_count": 18
    }
   ],
   "source": [
    "stroke_df.corr()['stroke']\\\n",
    "    .sort_values(ascending=False)"
   ]
  },
  {
   "cell_type": "code",
   "execution_count": null,
   "metadata": {},
   "outputs": [],
   "source": []
  }
 ],
 "metadata": {
  "kernelspec": {
   "name": "python379jvsc74a57bd0f838c0c5390ba9064bd701341a826e2ed1a22bf9cfbb7a411e36ea5095ef45ce",
   "display_name": "Python 3.7.9 64-bit ('mlenv': conda)"
  },
  "language_info": {
   "codemirror_mode": {
    "name": "ipython",
    "version": 3
   },
   "file_extension": ".py",
   "mimetype": "text/x-python",
   "name": "python",
   "nbconvert_exporter": "python",
   "pygments_lexer": "ipython3",
   "version": "3.7.9"
  }
 },
 "nbformat": 4,
 "nbformat_minor": 4
}