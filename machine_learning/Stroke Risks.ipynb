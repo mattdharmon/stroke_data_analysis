{
 "cells": [
  {
   "source": [
    "# Stroke Risk\n",
    "## Analysis and Machine Learning model"
   ],
   "cell_type": "markdown",
   "metadata": {}
  },
  {
   "cell_type": "code",
   "execution_count": 1,
   "metadata": {},
   "outputs": [],
   "source": [
    "# Import our dependencies\n",
    "from sklearn.model_selection import train_test_split\n",
    "from sklearn.preprocessing import StandardScaler,OneHotEncoder\n",
    "import pandas as pd\n",
    "import tensorflow as tf\n",
    "from tensorflow.keras.models import Sequential\n",
    "from tensorflow.keras.layers import Dense\n",
    "import numpy as np\n",
    "from sqlalchemy import create_engine\n",
    "from sqlalchemy.sql import text\n",
    "from sqlalchemy.orm import Session\n",
    "from sqlalchemy.ext.automap import automap_base\n",
    "import psycopg2"
   ]
  },
  {
   "source": [
    "### Importing the data"
   ],
   "cell_type": "markdown",
   "metadata": {}
  },
  {
   "cell_type": "code",
   "execution_count": 2,
   "metadata": {},
   "outputs": [],
   "source": [
    "from config import db_password, db_url, db_port\n",
    "\n",
    "# Make a connection\n",
    "connection_string = f\"postgres://postgres:{db_password}@{db_url}:{db_port}/final_project\"\n",
    "engine = create_engine(connection_string)"
   ]
  },
  {
   "cell_type": "code",
   "execution_count": 3,
   "metadata": {},
   "outputs": [],
   "source": [
    "# reflect an existing database into a new model\n",
    "Base = automap_base()\n",
    "# reflect the tables\n",
    "Base.prepare(engine, reflect=True)\n",
    "CleanData = Base.classes.clean_data\n",
    "session = Session(engine)\n"
   ]
  },
  {
   "cell_type": "code",
   "execution_count": 4,
   "metadata": {},
   "outputs": [
    {
     "output_type": "execute_result",
     "data": {
      "text/plain": [
       "   id   age  current_smoker  stroke  hypertension    bmi  avg_glucose_level  \\\n",
       "0   1  39.0               0       0             0  26.97                 77   \n",
       "1   2  46.0               0       0             0  28.73                 76   \n",
       "2   3  48.0               1       0             0  25.34                 70   \n",
       "3   4  61.0               1       0             1  28.58                103   \n",
       "4   5  46.0               1       0             0  23.10                 85   \n",
       "\n",
       "   gender  \n",
       "0    Male  \n",
       "1  Female  \n",
       "2    Male  \n",
       "3  Female  \n",
       "4  Female  "
      ],
      "text/html": "<div>\n<style scoped>\n    .dataframe tbody tr th:only-of-type {\n        vertical-align: middle;\n    }\n\n    .dataframe tbody tr th {\n        vertical-align: top;\n    }\n\n    .dataframe thead th {\n        text-align: right;\n    }\n</style>\n<table border=\"1\" class=\"dataframe\">\n  <thead>\n    <tr style=\"text-align: right;\">\n      <th></th>\n      <th>id</th>\n      <th>age</th>\n      <th>current_smoker</th>\n      <th>stroke</th>\n      <th>hypertension</th>\n      <th>bmi</th>\n      <th>avg_glucose_level</th>\n      <th>gender</th>\n    </tr>\n  </thead>\n  <tbody>\n    <tr>\n      <th>0</th>\n      <td>1</td>\n      <td>39.0</td>\n      <td>0</td>\n      <td>0</td>\n      <td>0</td>\n      <td>26.97</td>\n      <td>77</td>\n      <td>Male</td>\n    </tr>\n    <tr>\n      <th>1</th>\n      <td>2</td>\n      <td>46.0</td>\n      <td>0</td>\n      <td>0</td>\n      <td>0</td>\n      <td>28.73</td>\n      <td>76</td>\n      <td>Female</td>\n    </tr>\n    <tr>\n      <th>2</th>\n      <td>3</td>\n      <td>48.0</td>\n      <td>1</td>\n      <td>0</td>\n      <td>0</td>\n      <td>25.34</td>\n      <td>70</td>\n      <td>Male</td>\n    </tr>\n    <tr>\n      <th>3</th>\n      <td>4</td>\n      <td>61.0</td>\n      <td>1</td>\n      <td>0</td>\n      <td>1</td>\n      <td>28.58</td>\n      <td>103</td>\n      <td>Female</td>\n    </tr>\n    <tr>\n      <th>4</th>\n      <td>5</td>\n      <td>46.0</td>\n      <td>1</td>\n      <td>0</td>\n      <td>0</td>\n      <td>23.10</td>\n      <td>85</td>\n      <td>Female</td>\n    </tr>\n  </tbody>\n</table>\n</div>"
     },
     "metadata": {},
     "execution_count": 4
    }
   ],
   "source": [
    "# load the data\n",
    "query = session.query(CleanData)\n",
    "stroke_df = pd.read_sql(query.statement, engine)\n",
    "stroke_df.head()"
   ]
  },
  {
   "cell_type": "code",
   "execution_count": 5,
   "metadata": {},
   "outputs": [
    {
     "output_type": "execute_result",
     "data": {
      "text/plain": [
       "   id   age  current_smoker  stroke  hypertension    bmi  avg_glucose_level  \\\n",
       "0   1  39.0               0       0             0  26.97                 77   \n",
       "1   2  46.0               0       0             0  28.73                 76   \n",
       "2   3  48.0               1       0             0  25.34                 70   \n",
       "3   4  61.0               1       0             1  28.58                103   \n",
       "4   5  46.0               1       0             0  23.10                 85   \n",
       "\n",
       "   gender  clean_data_id  \n",
       "0    Male              1  \n",
       "1  Female              2  \n",
       "2    Male              3  \n",
       "3  Female              4  \n",
       "4  Female              5  "
      ],
      "text/html": "<div>\n<style scoped>\n    .dataframe tbody tr th:only-of-type {\n        vertical-align: middle;\n    }\n\n    .dataframe tbody tr th {\n        vertical-align: top;\n    }\n\n    .dataframe thead th {\n        text-align: right;\n    }\n</style>\n<table border=\"1\" class=\"dataframe\">\n  <thead>\n    <tr style=\"text-align: right;\">\n      <th></th>\n      <th>id</th>\n      <th>age</th>\n      <th>current_smoker</th>\n      <th>stroke</th>\n      <th>hypertension</th>\n      <th>bmi</th>\n      <th>avg_glucose_level</th>\n      <th>gender</th>\n      <th>clean_data_id</th>\n    </tr>\n  </thead>\n  <tbody>\n    <tr>\n      <th>0</th>\n      <td>1</td>\n      <td>39.0</td>\n      <td>0</td>\n      <td>0</td>\n      <td>0</td>\n      <td>26.97</td>\n      <td>77</td>\n      <td>Male</td>\n      <td>1</td>\n    </tr>\n    <tr>\n      <th>1</th>\n      <td>2</td>\n      <td>46.0</td>\n      <td>0</td>\n      <td>0</td>\n      <td>0</td>\n      <td>28.73</td>\n      <td>76</td>\n      <td>Female</td>\n      <td>2</td>\n    </tr>\n    <tr>\n      <th>2</th>\n      <td>3</td>\n      <td>48.0</td>\n      <td>1</td>\n      <td>0</td>\n      <td>0</td>\n      <td>25.34</td>\n      <td>70</td>\n      <td>Male</td>\n      <td>3</td>\n    </tr>\n    <tr>\n      <th>3</th>\n      <td>4</td>\n      <td>61.0</td>\n      <td>1</td>\n      <td>0</td>\n      <td>1</td>\n      <td>28.58</td>\n      <td>103</td>\n      <td>Female</td>\n      <td>4</td>\n    </tr>\n    <tr>\n      <th>4</th>\n      <td>5</td>\n      <td>46.0</td>\n      <td>1</td>\n      <td>0</td>\n      <td>0</td>\n      <td>23.10</td>\n      <td>85</td>\n      <td>Female</td>\n      <td>5</td>\n    </tr>\n  </tbody>\n</table>\n</div>"
     },
     "metadata": {},
     "execution_count": 5
    }
   ],
   "source": [
    "# Do some data cleaning to prepare it for database save.\n",
    "stroke_df['clean_data_id'] = stroke_df['id']\n",
    "stroke_df.head()"
   ]
  },
  {
   "cell_type": "code",
   "execution_count": 6,
   "metadata": {},
   "outputs": [],
   "source": [
    "# remove columns that are not useful to the analysis part.\n",
    "clean_stroke_df = stroke_df.drop(columns=['id', 'clean_data_id'])"
   ]
  },
  {
   "source": [
    "## Data Inspection"
   ],
   "cell_type": "markdown",
   "metadata": {}
  },
  {
   "cell_type": "code",
   "execution_count": 7,
   "metadata": {},
   "outputs": [
    {
     "output_type": "execute_result",
     "data": {
      "text/plain": [
       "stroke               1.000000\n",
       "age                  0.209085\n",
       "avg_glucose_level    0.154663\n",
       "bmi                  0.054233\n",
       "hypertension         0.051949\n",
       "current_smoker      -0.051091\n",
       "Name: stroke, dtype: float64"
      ]
     },
     "metadata": {},
     "execution_count": 7
    }
   ],
   "source": [
    "# Quick glance at what single variable has the highest correlation with a stroke\n",
    "clean_stroke_df.corr()['stroke']\\\n",
    "    .sort_values(ascending=False)"
   ]
  },
  {
   "cell_type": "code",
   "execution_count": 8,
   "metadata": {},
   "outputs": [
    {
     "output_type": "execute_result",
     "data": {
      "text/plain": [
       "<AxesSubplot:>"
      ]
     },
     "metadata": {},
     "execution_count": 8
    },
    {
     "output_type": "display_data",
     "data": {
      "text/plain": "<Figure size 1152x720 with 2 Axes>",
      "image/svg+xml": "<?xml version=\"1.0\" encoding=\"utf-8\" standalone=\"no\"?>\n<!DOCTYPE svg PUBLIC \"-//W3C//DTD SVG 1.1//EN\"\n  \"http://www.w3.org/Graphics/SVG/1.1/DTD/svg11.dtd\">\n<!-- Created with matplotlib (https://matplotlib.org/) -->\n<svg height=\"603.320313pt\" version=\"1.1\" viewBox=\"0 0 840.319375 603.320313\" width=\"840.319375pt\" xmlns=\"http://www.w3.org/2000/svg\" xmlns:xlink=\"http://www.w3.org/1999/xlink\">\n <metadata>\n  <rdf:RDF xmlns:cc=\"http://creativecommons.org/ns#\" xmlns:dc=\"http://purl.org/dc/elements/1.1/\" xmlns:rdf=\"http://www.w3.org/1999/02/22-rdf-syntax-ns#\">\n   <cc:Work>\n    <dc:type rdf:resource=\"http://purl.org/dc/dcmitype/StillImage\"/>\n    <dc:date>2021-06-05T15:06:07.381373</dc:date>\n    <dc:format>image/svg+xml</dc:format>\n    <dc:creator>\n     <cc:Agent>\n      <dc:title>Matplotlib v3.3.2, https://matplotlib.org/</dc:title>\n     </cc:Agent>\n    </dc:creator>\n   </cc:Work>\n  </rdf:RDF>\n </metadata>\n <defs>\n  <style type=\"text/css\">*{stroke-linecap:butt;stroke-linejoin:round;}</style>\n </defs>\n <g id=\"figure_1\">\n  <g id=\"patch_1\">\n   <path d=\"M 0 603.320313 \nL 840.319375 603.320313 \nL 840.319375 0 \nL 0 0 \nz\n\" style=\"fill:none;\"/>\n  </g>\n  <g id=\"axes_1\">\n   <g id=\"patch_2\">\n    <path d=\"M 24.15625 554.599219 \nL 738.39625 554.599219 \nL 738.39625 10.999219 \nL 24.15625 10.999219 \nz\n\" style=\"fill:#ffffff;\"/>\n   </g>\n   <g id=\"QuadMesh_1\">\n    <path clip-path=\"url(#p4f92babc24)\" d=\"M 24.15625 10.999219 \nL 143.19625 10.999219 \nL 143.19625 101.599219 \nL 24.15625 101.599219 \nL 24.15625 10.999219 \n\" style=\"fill:#faebdd;\"/>\n    <path clip-path=\"url(#p4f92babc24)\" d=\"M 143.19625 10.999219 \nL 262.23625 10.999219 \nL 262.23625 101.599219 \nL 143.19625 101.599219 \nL 143.19625 10.999219 \n\" style=\"fill:#140e26;\"/>\n    <path clip-path=\"url(#p4f92babc24)\" d=\"M 262.23625 10.999219 \nL 381.27625 10.999219 \nL 381.27625 101.599219 \nL 262.23625 101.599219 \nL 262.23625 10.999219 \n\" style=\"fill:#7f1e5a;\"/>\n    <path clip-path=\"url(#p4f92babc24)\" d=\"M 381.27625 10.999219 \nL 500.31625 10.999219 \nL 500.31625 101.599219 \nL 381.27625 101.599219 \nL 381.27625 10.999219 \n\" style=\"fill:#861e5b;\"/>\n    <path clip-path=\"url(#p4f92babc24)\" d=\"M 500.31625 10.999219 \nL 619.35625 10.999219 \nL 619.35625 101.599219 \nL 500.31625 101.599219 \nL 500.31625 10.999219 \n\" style=\"fill:#481c48;\"/>\n    <path clip-path=\"url(#p4f92babc24)\" d=\"M 619.35625 10.999219 \nL 738.39625 10.999219 \nL 738.39625 101.599219 \nL 619.35625 101.599219 \nL 619.35625 10.999219 \n\" style=\"fill:#7b1f59;\"/>\n    <path clip-path=\"url(#p4f92babc24)\" d=\"M 24.15625 101.599219 \nL 143.19625 101.599219 \nL 143.19625 192.199219 \nL 24.15625 192.199219 \nL 24.15625 101.599219 \n\" style=\"fill:#140e26;\"/>\n    <path clip-path=\"url(#p4f92babc24)\" d=\"M 143.19625 101.599219 \nL 262.23625 101.599219 \nL 262.23625 192.199219 \nL 143.19625 192.199219 \nL 143.19625 101.599219 \n\" style=\"fill:#faebdd;\"/>\n    <path clip-path=\"url(#p4f92babc24)\" d=\"M 262.23625 101.599219 \nL 381.27625 101.599219 \nL 381.27625 192.199219 \nL 262.23625 192.199219 \nL 262.23625 101.599219 \n\" style=\"fill:#251433;\"/>\n    <path clip-path=\"url(#p4f92babc24)\" d=\"M 381.27625 101.599219 \nL 500.31625 101.599219 \nL 500.31625 192.199219 \nL 381.27625 192.199219 \nL 381.27625 101.599219 \n\" style=\"fill:#3d1a42;\"/>\n    <path clip-path=\"url(#p4f92babc24)\" d=\"M 500.31625 101.599219 \nL 619.35625 101.599219 \nL 619.35625 192.199219 \nL 500.31625 192.199219 \nL 500.31625 101.599219 \n\" style=\"fill:#03051a;\"/>\n    <path clip-path=\"url(#p4f92babc24)\" d=\"M 619.35625 101.599219 \nL 738.39625 101.599219 \nL 738.39625 192.199219 \nL 619.35625 192.199219 \nL 619.35625 101.599219 \n\" style=\"fill:#0d0a21;\"/>\n    <path clip-path=\"url(#p4f92babc24)\" d=\"M 24.15625 192.199219 \nL 143.19625 192.199219 \nL 143.19625 282.799219 \nL 24.15625 282.799219 \nL 24.15625 192.199219 \n\" style=\"fill:#7f1e5a;\"/>\n    <path clip-path=\"url(#p4f92babc24)\" d=\"M 143.19625 192.199219 \nL 262.23625 192.199219 \nL 262.23625 282.799219 \nL 143.19625 282.799219 \nL 143.19625 192.199219 \n\" style=\"fill:#251433;\"/>\n    <path clip-path=\"url(#p4f92babc24)\" d=\"M 262.23625 192.199219 \nL 381.27625 192.199219 \nL 381.27625 282.799219 \nL 262.23625 282.799219 \nL 262.23625 192.199219 \n\" style=\"fill:#faebdd;\"/>\n    <path clip-path=\"url(#p4f92babc24)\" d=\"M 381.27625 192.199219 \nL 500.31625 192.199219 \nL 500.31625 282.799219 \nL 381.27625 282.799219 \nL 381.27625 192.199219 \n\" style=\"fill:#481c48;\"/>\n    <path clip-path=\"url(#p4f92babc24)\" d=\"M 500.31625 192.199219 \nL 619.35625 192.199219 \nL 619.35625 282.799219 \nL 500.31625 282.799219 \nL 500.31625 192.199219 \n\" style=\"fill:#481c48;\"/>\n    <path clip-path=\"url(#p4f92babc24)\" d=\"M 619.35625 192.199219 \nL 738.39625 192.199219 \nL 738.39625 282.799219 \nL 619.35625 282.799219 \nL 619.35625 192.199219 \n\" style=\"fill:#6b1f56;\"/>\n    <path clip-path=\"url(#p4f92babc24)\" d=\"M 24.15625 282.799219 \nL 143.19625 282.799219 \nL 143.19625 373.399219 \nL 24.15625 373.399219 \nL 24.15625 282.799219 \n\" style=\"fill:#861e5b;\"/>\n    <path clip-path=\"url(#p4f92babc24)\" d=\"M 143.19625 282.799219 \nL 262.23625 282.799219 \nL 262.23625 373.399219 \nL 143.19625 373.399219 \nL 143.19625 282.799219 \n\" style=\"fill:#3d1a42;\"/>\n    <path clip-path=\"url(#p4f92babc24)\" d=\"M 262.23625 282.799219 \nL 381.27625 282.799219 \nL 381.27625 373.399219 \nL 262.23625 373.399219 \nL 262.23625 282.799219 \n\" style=\"fill:#481c48;\"/>\n    <path clip-path=\"url(#p4f92babc24)\" d=\"M 381.27625 282.799219 \nL 500.31625 282.799219 \nL 500.31625 373.399219 \nL 381.27625 373.399219 \nL 381.27625 282.799219 \n\" style=\"fill:#faebdd;\"/>\n    <path clip-path=\"url(#p4f92babc24)\" d=\"M 500.31625 282.799219 \nL 619.35625 282.799219 \nL 619.35625 373.399219 \nL 500.31625 373.399219 \nL 500.31625 282.799219 \n\" style=\"fill:#4e1d4b;\"/>\n    <path clip-path=\"url(#p4f92babc24)\" d=\"M 619.35625 282.799219 \nL 738.39625 282.799219 \nL 738.39625 373.399219 \nL 619.35625 373.399219 \nL 619.35625 282.799219 \n\" style=\"fill:#401b44;\"/>\n    <path clip-path=\"url(#p4f92babc24)\" d=\"M 24.15625 373.399219 \nL 143.19625 373.399219 \nL 143.19625 463.999219 \nL 24.15625 463.999219 \nL 24.15625 373.399219 \n\" style=\"fill:#481c48;\"/>\n    <path clip-path=\"url(#p4f92babc24)\" d=\"M 143.19625 373.399219 \nL 262.23625 373.399219 \nL 262.23625 463.999219 \nL 143.19625 463.999219 \nL 143.19625 373.399219 \n\" style=\"fill:#03051a;\"/>\n    <path clip-path=\"url(#p4f92babc24)\" d=\"M 262.23625 373.399219 \nL 381.27625 373.399219 \nL 381.27625 463.999219 \nL 262.23625 463.999219 \nL 262.23625 373.399219 \n\" style=\"fill:#481c48;\"/>\n    <path clip-path=\"url(#p4f92babc24)\" d=\"M 381.27625 373.399219 \nL 500.31625 373.399219 \nL 500.31625 463.999219 \nL 381.27625 463.999219 \nL 381.27625 373.399219 \n\" style=\"fill:#4e1d4b;\"/>\n    <path clip-path=\"url(#p4f92babc24)\" d=\"M 500.31625 373.399219 \nL 619.35625 373.399219 \nL 619.35625 463.999219 \nL 500.31625 463.999219 \nL 500.31625 373.399219 \n\" style=\"fill:#faebdd;\"/>\n    <path clip-path=\"url(#p4f92babc24)\" d=\"M 619.35625 373.399219 \nL 738.39625 373.399219 \nL 738.39625 463.999219 \nL 619.35625 463.999219 \nL 619.35625 373.399219 \n\" style=\"fill:#8c1d5b;\"/>\n    <path clip-path=\"url(#p4f92babc24)\" d=\"M 24.15625 463.999219 \nL 143.19625 463.999219 \nL 143.19625 554.599219 \nL 24.15625 554.599219 \nL 24.15625 463.999219 \n\" style=\"fill:#7b1f59;\"/>\n    <path clip-path=\"url(#p4f92babc24)\" d=\"M 143.19625 463.999219 \nL 262.23625 463.999219 \nL 262.23625 554.599219 \nL 143.19625 554.599219 \nL 143.19625 463.999219 \n\" style=\"fill:#0d0a21;\"/>\n    <path clip-path=\"url(#p4f92babc24)\" d=\"M 262.23625 463.999219 \nL 381.27625 463.999219 \nL 381.27625 554.599219 \nL 262.23625 554.599219 \nL 262.23625 463.999219 \n\" style=\"fill:#6b1f56;\"/>\n    <path clip-path=\"url(#p4f92babc24)\" d=\"M 381.27625 463.999219 \nL 500.31625 463.999219 \nL 500.31625 554.599219 \nL 381.27625 554.599219 \nL 381.27625 463.999219 \n\" style=\"fill:#401b44;\"/>\n    <path clip-path=\"url(#p4f92babc24)\" d=\"M 500.31625 463.999219 \nL 619.35625 463.999219 \nL 619.35625 554.599219 \nL 500.31625 554.599219 \nL 500.31625 463.999219 \n\" style=\"fill:#8c1d5b;\"/>\n    <path clip-path=\"url(#p4f92babc24)\" d=\"M 619.35625 463.999219 \nL 738.39625 463.999219 \nL 738.39625 554.599219 \nL 619.35625 554.599219 \nL 619.35625 463.999219 \n\" style=\"fill:#faebdd;\"/>\n   </g>\n   <g id=\"matplotlib.axis_1\">\n    <g id=\"xtick_1\">\n     <g id=\"line2d_1\">\n      <defs>\n       <path d=\"M 0 0 \nL 0 3.5 \n\" id=\"m788576deef\" style=\"stroke:#000000;stroke-width:0.8;\"/>\n      </defs>\n      <g>\n       <use style=\"stroke:#000000;stroke-width:0.8;\" x=\"83.67625\" xlink:href=\"#m788576deef\" y=\"554.599219\"/>\n      </g>\n     </g>\n     <g id=\"text_1\">\n      <!-- age -->\n      <g transform=\"translate(74.361406 569.197656)scale(0.1 -0.1)\">\n       <defs>\n        <path d=\"M 34.28125 27.484375 \nQ 23.390625 27.484375 19.1875 25 \nQ 14.984375 22.515625 14.984375 16.5 \nQ 14.984375 11.71875 18.140625 8.90625 \nQ 21.296875 6.109375 26.703125 6.109375 \nQ 34.1875 6.109375 38.703125 11.40625 \nQ 43.21875 16.703125 43.21875 25.484375 \nL 43.21875 27.484375 \nz\nM 52.203125 31.203125 \nL 52.203125 0 \nL 43.21875 0 \nL 43.21875 8.296875 \nQ 40.140625 3.328125 35.546875 0.953125 \nQ 30.953125 -1.421875 24.3125 -1.421875 \nQ 15.921875 -1.421875 10.953125 3.296875 \nQ 6 8.015625 6 15.921875 \nQ 6 25.140625 12.171875 29.828125 \nQ 18.359375 34.515625 30.609375 34.515625 \nL 43.21875 34.515625 \nL 43.21875 35.40625 \nQ 43.21875 41.609375 39.140625 45 \nQ 35.0625 48.390625 27.6875 48.390625 \nQ 23 48.390625 18.546875 47.265625 \nQ 14.109375 46.140625 10.015625 43.890625 \nL 10.015625 52.203125 \nQ 14.9375 54.109375 19.578125 55.046875 \nQ 24.21875 56 28.609375 56 \nQ 40.484375 56 46.34375 49.84375 \nQ 52.203125 43.703125 52.203125 31.203125 \nz\n\" id=\"DejaVuSans-97\"/>\n        <path d=\"M 45.40625 27.984375 \nQ 45.40625 37.75 41.375 43.109375 \nQ 37.359375 48.484375 30.078125 48.484375 \nQ 22.859375 48.484375 18.828125 43.109375 \nQ 14.796875 37.75 14.796875 27.984375 \nQ 14.796875 18.265625 18.828125 12.890625 \nQ 22.859375 7.515625 30.078125 7.515625 \nQ 37.359375 7.515625 41.375 12.890625 \nQ 45.40625 18.265625 45.40625 27.984375 \nz\nM 54.390625 6.78125 \nQ 54.390625 -7.171875 48.1875 -13.984375 \nQ 42 -20.796875 29.203125 -20.796875 \nQ 24.46875 -20.796875 20.265625 -20.09375 \nQ 16.0625 -19.390625 12.109375 -17.921875 \nL 12.109375 -9.1875 \nQ 16.0625 -11.328125 19.921875 -12.34375 \nQ 23.78125 -13.375 27.78125 -13.375 \nQ 36.625 -13.375 41.015625 -8.765625 \nQ 45.40625 -4.15625 45.40625 5.171875 \nL 45.40625 9.625 \nQ 42.625 4.78125 38.28125 2.390625 \nQ 33.9375 0 27.875 0 \nQ 17.828125 0 11.671875 7.65625 \nQ 5.515625 15.328125 5.515625 27.984375 \nQ 5.515625 40.671875 11.671875 48.328125 \nQ 17.828125 56 27.875 56 \nQ 33.9375 56 38.28125 53.609375 \nQ 42.625 51.21875 45.40625 46.390625 \nL 45.40625 54.6875 \nL 54.390625 54.6875 \nz\n\" id=\"DejaVuSans-103\"/>\n        <path d=\"M 56.203125 29.59375 \nL 56.203125 25.203125 \nL 14.890625 25.203125 \nQ 15.484375 15.921875 20.484375 11.0625 \nQ 25.484375 6.203125 34.421875 6.203125 \nQ 39.59375 6.203125 44.453125 7.46875 \nQ 49.3125 8.734375 54.109375 11.28125 \nL 54.109375 2.78125 \nQ 49.265625 0.734375 44.1875 -0.34375 \nQ 39.109375 -1.421875 33.890625 -1.421875 \nQ 20.796875 -1.421875 13.15625 6.1875 \nQ 5.515625 13.8125 5.515625 26.8125 \nQ 5.515625 40.234375 12.765625 48.109375 \nQ 20.015625 56 32.328125 56 \nQ 43.359375 56 49.78125 48.890625 \nQ 56.203125 41.796875 56.203125 29.59375 \nz\nM 47.21875 32.234375 \nQ 47.125 39.59375 43.09375 43.984375 \nQ 39.0625 48.390625 32.421875 48.390625 \nQ 24.90625 48.390625 20.390625 44.140625 \nQ 15.875 39.890625 15.1875 32.171875 \nz\n\" id=\"DejaVuSans-101\"/>\n       </defs>\n       <use xlink:href=\"#DejaVuSans-97\"/>\n       <use x=\"61.279297\" xlink:href=\"#DejaVuSans-103\"/>\n       <use x=\"124.755859\" xlink:href=\"#DejaVuSans-101\"/>\n      </g>\n     </g>\n    </g>\n    <g id=\"xtick_2\">\n     <g id=\"line2d_2\">\n      <g>\n       <use style=\"stroke:#000000;stroke-width:0.8;\" x=\"202.71625\" xlink:href=\"#m788576deef\" y=\"554.599219\"/>\n      </g>\n     </g>\n     <g id=\"text_2\">\n      <!-- current_smoker -->\n      <g transform=\"translate(163.801406 569.197656)scale(0.1 -0.1)\">\n       <defs>\n        <path d=\"M 48.78125 52.59375 \nL 48.78125 44.1875 \nQ 44.96875 46.296875 41.140625 47.34375 \nQ 37.3125 48.390625 33.40625 48.390625 \nQ 24.65625 48.390625 19.8125 42.84375 \nQ 14.984375 37.3125 14.984375 27.296875 \nQ 14.984375 17.28125 19.8125 11.734375 \nQ 24.65625 6.203125 33.40625 6.203125 \nQ 37.3125 6.203125 41.140625 7.25 \nQ 44.96875 8.296875 48.78125 10.40625 \nL 48.78125 2.09375 \nQ 45.015625 0.34375 40.984375 -0.53125 \nQ 36.96875 -1.421875 32.421875 -1.421875 \nQ 20.0625 -1.421875 12.78125 6.34375 \nQ 5.515625 14.109375 5.515625 27.296875 \nQ 5.515625 40.671875 12.859375 48.328125 \nQ 20.21875 56 33.015625 56 \nQ 37.15625 56 41.109375 55.140625 \nQ 45.0625 54.296875 48.78125 52.59375 \nz\n\" id=\"DejaVuSans-99\"/>\n        <path d=\"M 8.5 21.578125 \nL 8.5 54.6875 \nL 17.484375 54.6875 \nL 17.484375 21.921875 \nQ 17.484375 14.15625 20.5 10.265625 \nQ 23.53125 6.390625 29.59375 6.390625 \nQ 36.859375 6.390625 41.078125 11.03125 \nQ 45.3125 15.671875 45.3125 23.6875 \nL 45.3125 54.6875 \nL 54.296875 54.6875 \nL 54.296875 0 \nL 45.3125 0 \nL 45.3125 8.40625 \nQ 42.046875 3.421875 37.71875 1 \nQ 33.40625 -1.421875 27.6875 -1.421875 \nQ 18.265625 -1.421875 13.375 4.4375 \nQ 8.5 10.296875 8.5 21.578125 \nz\nM 31.109375 56 \nz\n\" id=\"DejaVuSans-117\"/>\n        <path d=\"M 41.109375 46.296875 \nQ 39.59375 47.171875 37.8125 47.578125 \nQ 36.03125 48 33.890625 48 \nQ 26.265625 48 22.1875 43.046875 \nQ 18.109375 38.09375 18.109375 28.8125 \nL 18.109375 0 \nL 9.078125 0 \nL 9.078125 54.6875 \nL 18.109375 54.6875 \nL 18.109375 46.1875 \nQ 20.953125 51.171875 25.484375 53.578125 \nQ 30.03125 56 36.53125 56 \nQ 37.453125 56 38.578125 55.875 \nQ 39.703125 55.765625 41.0625 55.515625 \nz\n\" id=\"DejaVuSans-114\"/>\n        <path d=\"M 54.890625 33.015625 \nL 54.890625 0 \nL 45.90625 0 \nL 45.90625 32.71875 \nQ 45.90625 40.484375 42.875 44.328125 \nQ 39.84375 48.1875 33.796875 48.1875 \nQ 26.515625 48.1875 22.3125 43.546875 \nQ 18.109375 38.921875 18.109375 30.90625 \nL 18.109375 0 \nL 9.078125 0 \nL 9.078125 54.6875 \nL 18.109375 54.6875 \nL 18.109375 46.1875 \nQ 21.34375 51.125 25.703125 53.5625 \nQ 30.078125 56 35.796875 56 \nQ 45.21875 56 50.046875 50.171875 \nQ 54.890625 44.34375 54.890625 33.015625 \nz\n\" id=\"DejaVuSans-110\"/>\n        <path d=\"M 18.3125 70.21875 \nL 18.3125 54.6875 \nL 36.8125 54.6875 \nL 36.8125 47.703125 \nL 18.3125 47.703125 \nL 18.3125 18.015625 \nQ 18.3125 11.328125 20.140625 9.421875 \nQ 21.96875 7.515625 27.59375 7.515625 \nL 36.8125 7.515625 \nL 36.8125 0 \nL 27.59375 0 \nQ 17.1875 0 13.234375 3.875 \nQ 9.28125 7.765625 9.28125 18.015625 \nL 9.28125 47.703125 \nL 2.6875 47.703125 \nL 2.6875 54.6875 \nL 9.28125 54.6875 \nL 9.28125 70.21875 \nz\n\" id=\"DejaVuSans-116\"/>\n        <path d=\"M 50.984375 -16.609375 \nL 50.984375 -23.578125 \nL -0.984375 -23.578125 \nL -0.984375 -16.609375 \nz\n\" id=\"DejaVuSans-95\"/>\n        <path d=\"M 44.28125 53.078125 \nL 44.28125 44.578125 \nQ 40.484375 46.53125 36.375 47.5 \nQ 32.28125 48.484375 27.875 48.484375 \nQ 21.1875 48.484375 17.84375 46.4375 \nQ 14.5 44.390625 14.5 40.28125 \nQ 14.5 37.15625 16.890625 35.375 \nQ 19.28125 33.59375 26.515625 31.984375 \nL 29.59375 31.296875 \nQ 39.15625 29.25 43.1875 25.515625 \nQ 47.21875 21.78125 47.21875 15.09375 \nQ 47.21875 7.46875 41.1875 3.015625 \nQ 35.15625 -1.421875 24.609375 -1.421875 \nQ 20.21875 -1.421875 15.453125 -0.5625 \nQ 10.6875 0.296875 5.421875 2 \nL 5.421875 11.28125 \nQ 10.40625 8.6875 15.234375 7.390625 \nQ 20.0625 6.109375 24.8125 6.109375 \nQ 31.15625 6.109375 34.5625 8.28125 \nQ 37.984375 10.453125 37.984375 14.40625 \nQ 37.984375 18.0625 35.515625 20.015625 \nQ 33.0625 21.96875 24.703125 23.78125 \nL 21.578125 24.515625 \nQ 13.234375 26.265625 9.515625 29.90625 \nQ 5.8125 33.546875 5.8125 39.890625 \nQ 5.8125 47.609375 11.28125 51.796875 \nQ 16.75 56 26.8125 56 \nQ 31.78125 56 36.171875 55.265625 \nQ 40.578125 54.546875 44.28125 53.078125 \nz\n\" id=\"DejaVuSans-115\"/>\n        <path d=\"M 52 44.1875 \nQ 55.375 50.25 60.0625 53.125 \nQ 64.75 56 71.09375 56 \nQ 79.640625 56 84.28125 50.015625 \nQ 88.921875 44.046875 88.921875 33.015625 \nL 88.921875 0 \nL 79.890625 0 \nL 79.890625 32.71875 \nQ 79.890625 40.578125 77.09375 44.375 \nQ 74.3125 48.1875 68.609375 48.1875 \nQ 61.625 48.1875 57.5625 43.546875 \nQ 53.515625 38.921875 53.515625 30.90625 \nL 53.515625 0 \nL 44.484375 0 \nL 44.484375 32.71875 \nQ 44.484375 40.625 41.703125 44.40625 \nQ 38.921875 48.1875 33.109375 48.1875 \nQ 26.21875 48.1875 22.15625 43.53125 \nQ 18.109375 38.875 18.109375 30.90625 \nL 18.109375 0 \nL 9.078125 0 \nL 9.078125 54.6875 \nL 18.109375 54.6875 \nL 18.109375 46.1875 \nQ 21.1875 51.21875 25.484375 53.609375 \nQ 29.78125 56 35.6875 56 \nQ 41.65625 56 45.828125 52.96875 \nQ 50 49.953125 52 44.1875 \nz\n\" id=\"DejaVuSans-109\"/>\n        <path d=\"M 30.609375 48.390625 \nQ 23.390625 48.390625 19.1875 42.75 \nQ 14.984375 37.109375 14.984375 27.296875 \nQ 14.984375 17.484375 19.15625 11.84375 \nQ 23.34375 6.203125 30.609375 6.203125 \nQ 37.796875 6.203125 41.984375 11.859375 \nQ 46.1875 17.53125 46.1875 27.296875 \nQ 46.1875 37.015625 41.984375 42.703125 \nQ 37.796875 48.390625 30.609375 48.390625 \nz\nM 30.609375 56 \nQ 42.328125 56 49.015625 48.375 \nQ 55.71875 40.765625 55.71875 27.296875 \nQ 55.71875 13.875 49.015625 6.21875 \nQ 42.328125 -1.421875 30.609375 -1.421875 \nQ 18.84375 -1.421875 12.171875 6.21875 \nQ 5.515625 13.875 5.515625 27.296875 \nQ 5.515625 40.765625 12.171875 48.375 \nQ 18.84375 56 30.609375 56 \nz\n\" id=\"DejaVuSans-111\"/>\n        <path d=\"M 9.078125 75.984375 \nL 18.109375 75.984375 \nL 18.109375 31.109375 \nL 44.921875 54.6875 \nL 56.390625 54.6875 \nL 27.390625 29.109375 \nL 57.625 0 \nL 45.90625 0 \nL 18.109375 26.703125 \nL 18.109375 0 \nL 9.078125 0 \nz\n\" id=\"DejaVuSans-107\"/>\n       </defs>\n       <use xlink:href=\"#DejaVuSans-99\"/>\n       <use x=\"54.980469\" xlink:href=\"#DejaVuSans-117\"/>\n       <use x=\"118.359375\" xlink:href=\"#DejaVuSans-114\"/>\n       <use x=\"157.722656\" xlink:href=\"#DejaVuSans-114\"/>\n       <use x=\"196.585938\" xlink:href=\"#DejaVuSans-101\"/>\n       <use x=\"258.109375\" xlink:href=\"#DejaVuSans-110\"/>\n       <use x=\"321.488281\" xlink:href=\"#DejaVuSans-116\"/>\n       <use x=\"360.697266\" xlink:href=\"#DejaVuSans-95\"/>\n       <use x=\"410.697266\" xlink:href=\"#DejaVuSans-115\"/>\n       <use x=\"462.796875\" xlink:href=\"#DejaVuSans-109\"/>\n       <use x=\"560.208984\" xlink:href=\"#DejaVuSans-111\"/>\n       <use x=\"621.390625\" xlink:href=\"#DejaVuSans-107\"/>\n       <use x=\"675.675781\" xlink:href=\"#DejaVuSans-101\"/>\n       <use x=\"737.199219\" xlink:href=\"#DejaVuSans-114\"/>\n      </g>\n     </g>\n    </g>\n    <g id=\"xtick_3\">\n     <g id=\"line2d_3\">\n      <g>\n       <use style=\"stroke:#000000;stroke-width:0.8;\" x=\"321.75625\" xlink:href=\"#m788576deef\" y=\"554.599219\"/>\n      </g>\n     </g>\n     <g id=\"text_3\">\n      <!-- stroke -->\n      <g transform=\"translate(306.398438 569.197656)scale(0.1 -0.1)\">\n       <use xlink:href=\"#DejaVuSans-115\"/>\n       <use x=\"52.099609\" xlink:href=\"#DejaVuSans-116\"/>\n       <use x=\"91.308594\" xlink:href=\"#DejaVuSans-114\"/>\n       <use x=\"130.171875\" xlink:href=\"#DejaVuSans-111\"/>\n       <use x=\"191.353516\" xlink:href=\"#DejaVuSans-107\"/>\n       <use x=\"245.638672\" xlink:href=\"#DejaVuSans-101\"/>\n      </g>\n     </g>\n    </g>\n    <g id=\"xtick_4\">\n     <g id=\"line2d_4\">\n      <g>\n       <use style=\"stroke:#000000;stroke-width:0.8;\" x=\"440.79625\" xlink:href=\"#m788576deef\" y=\"554.599219\"/>\n      </g>\n     </g>\n     <g id=\"text_4\">\n      <!-- hypertension -->\n      <g transform=\"translate(407.934531 569.197656)scale(0.1 -0.1)\">\n       <defs>\n        <path d=\"M 54.890625 33.015625 \nL 54.890625 0 \nL 45.90625 0 \nL 45.90625 32.71875 \nQ 45.90625 40.484375 42.875 44.328125 \nQ 39.84375 48.1875 33.796875 48.1875 \nQ 26.515625 48.1875 22.3125 43.546875 \nQ 18.109375 38.921875 18.109375 30.90625 \nL 18.109375 0 \nL 9.078125 0 \nL 9.078125 75.984375 \nL 18.109375 75.984375 \nL 18.109375 46.1875 \nQ 21.34375 51.125 25.703125 53.5625 \nQ 30.078125 56 35.796875 56 \nQ 45.21875 56 50.046875 50.171875 \nQ 54.890625 44.34375 54.890625 33.015625 \nz\n\" id=\"DejaVuSans-104\"/>\n        <path d=\"M 32.171875 -5.078125 \nQ 28.375 -14.84375 24.75 -17.8125 \nQ 21.140625 -20.796875 15.09375 -20.796875 \nL 7.90625 -20.796875 \nL 7.90625 -13.28125 \nL 13.1875 -13.28125 \nQ 16.890625 -13.28125 18.9375 -11.515625 \nQ 21 -9.765625 23.484375 -3.21875 \nL 25.09375 0.875 \nL 2.984375 54.6875 \nL 12.5 54.6875 \nL 29.59375 11.921875 \nL 46.6875 54.6875 \nL 56.203125 54.6875 \nz\n\" id=\"DejaVuSans-121\"/>\n        <path d=\"M 18.109375 8.203125 \nL 18.109375 -20.796875 \nL 9.078125 -20.796875 \nL 9.078125 54.6875 \nL 18.109375 54.6875 \nL 18.109375 46.390625 \nQ 20.953125 51.265625 25.265625 53.625 \nQ 29.59375 56 35.59375 56 \nQ 45.5625 56 51.78125 48.09375 \nQ 58.015625 40.1875 58.015625 27.296875 \nQ 58.015625 14.40625 51.78125 6.484375 \nQ 45.5625 -1.421875 35.59375 -1.421875 \nQ 29.59375 -1.421875 25.265625 0.953125 \nQ 20.953125 3.328125 18.109375 8.203125 \nz\nM 48.6875 27.296875 \nQ 48.6875 37.203125 44.609375 42.84375 \nQ 40.53125 48.484375 33.40625 48.484375 \nQ 26.265625 48.484375 22.1875 42.84375 \nQ 18.109375 37.203125 18.109375 27.296875 \nQ 18.109375 17.390625 22.1875 11.75 \nQ 26.265625 6.109375 33.40625 6.109375 \nQ 40.53125 6.109375 44.609375 11.75 \nQ 48.6875 17.390625 48.6875 27.296875 \nz\n\" id=\"DejaVuSans-112\"/>\n        <path d=\"M 9.421875 54.6875 \nL 18.40625 54.6875 \nL 18.40625 0 \nL 9.421875 0 \nz\nM 9.421875 75.984375 \nL 18.40625 75.984375 \nL 18.40625 64.59375 \nL 9.421875 64.59375 \nz\n\" id=\"DejaVuSans-105\"/>\n       </defs>\n       <use xlink:href=\"#DejaVuSans-104\"/>\n       <use x=\"63.378906\" xlink:href=\"#DejaVuSans-121\"/>\n       <use x=\"122.558594\" xlink:href=\"#DejaVuSans-112\"/>\n       <use x=\"186.035156\" xlink:href=\"#DejaVuSans-101\"/>\n       <use x=\"247.558594\" xlink:href=\"#DejaVuSans-114\"/>\n       <use x=\"288.671875\" xlink:href=\"#DejaVuSans-116\"/>\n       <use x=\"327.880859\" xlink:href=\"#DejaVuSans-101\"/>\n       <use x=\"389.404297\" xlink:href=\"#DejaVuSans-110\"/>\n       <use x=\"452.783203\" xlink:href=\"#DejaVuSans-115\"/>\n       <use x=\"504.882812\" xlink:href=\"#DejaVuSans-105\"/>\n       <use x=\"532.666016\" xlink:href=\"#DejaVuSans-111\"/>\n       <use x=\"593.847656\" xlink:href=\"#DejaVuSans-110\"/>\n      </g>\n     </g>\n    </g>\n    <g id=\"xtick_5\">\n     <g id=\"line2d_5\">\n      <g>\n       <use style=\"stroke:#000000;stroke-width:0.8;\" x=\"559.83625\" xlink:href=\"#m788576deef\" y=\"554.599219\"/>\n      </g>\n     </g>\n     <g id=\"text_5\">\n      <!-- bmi -->\n      <g transform=\"translate(550.402656 569.197656)scale(0.1 -0.1)\">\n       <defs>\n        <path d=\"M 48.6875 27.296875 \nQ 48.6875 37.203125 44.609375 42.84375 \nQ 40.53125 48.484375 33.40625 48.484375 \nQ 26.265625 48.484375 22.1875 42.84375 \nQ 18.109375 37.203125 18.109375 27.296875 \nQ 18.109375 17.390625 22.1875 11.75 \nQ 26.265625 6.109375 33.40625 6.109375 \nQ 40.53125 6.109375 44.609375 11.75 \nQ 48.6875 17.390625 48.6875 27.296875 \nz\nM 18.109375 46.390625 \nQ 20.953125 51.265625 25.265625 53.625 \nQ 29.59375 56 35.59375 56 \nQ 45.5625 56 51.78125 48.09375 \nQ 58.015625 40.1875 58.015625 27.296875 \nQ 58.015625 14.40625 51.78125 6.484375 \nQ 45.5625 -1.421875 35.59375 -1.421875 \nQ 29.59375 -1.421875 25.265625 0.953125 \nQ 20.953125 3.328125 18.109375 8.203125 \nL 18.109375 0 \nL 9.078125 0 \nL 9.078125 75.984375 \nL 18.109375 75.984375 \nz\n\" id=\"DejaVuSans-98\"/>\n       </defs>\n       <use xlink:href=\"#DejaVuSans-98\"/>\n       <use x=\"63.476562\" xlink:href=\"#DejaVuSans-109\"/>\n       <use x=\"160.888672\" xlink:href=\"#DejaVuSans-105\"/>\n      </g>\n     </g>\n    </g>\n    <g id=\"xtick_6\">\n     <g id=\"line2d_6\">\n      <g>\n       <use style=\"stroke:#000000;stroke-width:0.8;\" x=\"678.87625\" xlink:href=\"#m788576deef\" y=\"554.599219\"/>\n      </g>\n     </g>\n     <g id=\"text_6\">\n      <!-- avg_glucose_level -->\n      <g transform=\"translate(633.566094 569.197656)scale(0.1 -0.1)\">\n       <defs>\n        <path d=\"M 2.984375 54.6875 \nL 12.5 54.6875 \nL 29.59375 8.796875 \nL 46.6875 54.6875 \nL 56.203125 54.6875 \nL 35.6875 0 \nL 23.484375 0 \nz\n\" id=\"DejaVuSans-118\"/>\n        <path d=\"M 9.421875 75.984375 \nL 18.40625 75.984375 \nL 18.40625 0 \nL 9.421875 0 \nz\n\" id=\"DejaVuSans-108\"/>\n       </defs>\n       <use xlink:href=\"#DejaVuSans-97\"/>\n       <use x=\"61.279297\" xlink:href=\"#DejaVuSans-118\"/>\n       <use x=\"120.458984\" xlink:href=\"#DejaVuSans-103\"/>\n       <use x=\"183.935547\" xlink:href=\"#DejaVuSans-95\"/>\n       <use x=\"233.935547\" xlink:href=\"#DejaVuSans-103\"/>\n       <use x=\"297.412109\" xlink:href=\"#DejaVuSans-108\"/>\n       <use x=\"325.195312\" xlink:href=\"#DejaVuSans-117\"/>\n       <use x=\"388.574219\" xlink:href=\"#DejaVuSans-99\"/>\n       <use x=\"443.554688\" xlink:href=\"#DejaVuSans-111\"/>\n       <use x=\"504.736328\" xlink:href=\"#DejaVuSans-115\"/>\n       <use x=\"556.835938\" xlink:href=\"#DejaVuSans-101\"/>\n       <use x=\"618.359375\" xlink:href=\"#DejaVuSans-95\"/>\n       <use x=\"668.359375\" xlink:href=\"#DejaVuSans-108\"/>\n       <use x=\"696.142578\" xlink:href=\"#DejaVuSans-101\"/>\n       <use x=\"757.666016\" xlink:href=\"#DejaVuSans-118\"/>\n       <use x=\"816.845703\" xlink:href=\"#DejaVuSans-101\"/>\n       <use x=\"878.369141\" xlink:href=\"#DejaVuSans-108\"/>\n      </g>\n     </g>\n    </g>\n   </g>\n   <g id=\"matplotlib.axis_2\">\n    <g id=\"ytick_1\">\n     <g id=\"line2d_7\">\n      <defs>\n       <path d=\"M 0 0 \nL -3.5 0 \n\" id=\"m31e4bf9754\" style=\"stroke:#000000;stroke-width:0.8;\"/>\n      </defs>\n      <g>\n       <use style=\"stroke:#000000;stroke-width:0.8;\" x=\"24.15625\" xlink:href=\"#m31e4bf9754\" y=\"56.299219\"/>\n      </g>\n     </g>\n     <g id=\"text_7\">\n      <!-- age -->\n      <g transform=\"translate(15.076563 71.129688)rotate(-90)scale(0.1 -0.1)\">\n       <use xlink:href=\"#DejaVuSans-97\"/>\n       <use x=\"61.279297\" xlink:href=\"#DejaVuSans-103\"/>\n       <use x=\"124.755859\" xlink:href=\"#DejaVuSans-101\"/>\n      </g>\n     </g>\n    </g>\n    <g id=\"ytick_2\">\n     <g id=\"line2d_8\">\n      <g>\n       <use style=\"stroke:#000000;stroke-width:0.8;\" x=\"24.15625\" xlink:href=\"#m31e4bf9754\" y=\"146.899219\"/>\n      </g>\n     </g>\n     <g id=\"text_8\">\n      <!-- current_smoker -->\n      <g transform=\"translate(14.798438 220.929688)rotate(-90)scale(0.1 -0.1)\">\n       <use xlink:href=\"#DejaVuSans-99\"/>\n       <use x=\"54.980469\" xlink:href=\"#DejaVuSans-117\"/>\n       <use x=\"118.359375\" xlink:href=\"#DejaVuSans-114\"/>\n       <use x=\"157.722656\" xlink:href=\"#DejaVuSans-114\"/>\n       <use x=\"196.585938\" xlink:href=\"#DejaVuSans-101\"/>\n       <use x=\"258.109375\" xlink:href=\"#DejaVuSans-110\"/>\n       <use x=\"321.488281\" xlink:href=\"#DejaVuSans-116\"/>\n       <use x=\"360.697266\" xlink:href=\"#DejaVuSans-95\"/>\n       <use x=\"410.697266\" xlink:href=\"#DejaVuSans-115\"/>\n       <use x=\"462.796875\" xlink:href=\"#DejaVuSans-109\"/>\n       <use x=\"560.208984\" xlink:href=\"#DejaVuSans-111\"/>\n       <use x=\"621.390625\" xlink:href=\"#DejaVuSans-107\"/>\n       <use x=\"675.675781\" xlink:href=\"#DejaVuSans-101\"/>\n       <use x=\"737.199219\" xlink:href=\"#DejaVuSans-114\"/>\n      </g>\n     </g>\n    </g>\n    <g id=\"ytick_3\">\n     <g id=\"line2d_9\">\n      <g>\n       <use style=\"stroke:#000000;stroke-width:0.8;\" x=\"24.15625\" xlink:href=\"#m31e4bf9754\" y=\"237.499219\"/>\n      </g>\n     </g>\n     <g id=\"text_9\">\n      <!-- stroke -->\n      <g transform=\"translate(15.076563 264.415625)rotate(-90)scale(0.1 -0.1)\">\n       <use xlink:href=\"#DejaVuSans-115\"/>\n       <use x=\"52.099609\" xlink:href=\"#DejaVuSans-116\"/>\n       <use x=\"91.308594\" xlink:href=\"#DejaVuSans-114\"/>\n       <use x=\"130.171875\" xlink:href=\"#DejaVuSans-111\"/>\n       <use x=\"191.353516\" xlink:href=\"#DejaVuSans-107\"/>\n       <use x=\"245.638672\" xlink:href=\"#DejaVuSans-101\"/>\n      </g>\n     </g>\n    </g>\n    <g id=\"ytick_4\">\n     <g id=\"line2d_10\">\n      <g>\n       <use style=\"stroke:#000000;stroke-width:0.8;\" x=\"24.15625\" xlink:href=\"#m31e4bf9754\" y=\"328.099219\"/>\n      </g>\n     </g>\n     <g id=\"text_10\">\n      <!-- hypertension -->\n      <g transform=\"translate(15.076563 390.023438)rotate(-90)scale(0.1 -0.1)\">\n       <use xlink:href=\"#DejaVuSans-104\"/>\n       <use x=\"63.378906\" xlink:href=\"#DejaVuSans-121\"/>\n       <use x=\"122.558594\" xlink:href=\"#DejaVuSans-112\"/>\n       <use x=\"186.035156\" xlink:href=\"#DejaVuSans-101\"/>\n       <use x=\"247.558594\" xlink:href=\"#DejaVuSans-114\"/>\n       <use x=\"288.671875\" xlink:href=\"#DejaVuSans-116\"/>\n       <use x=\"327.880859\" xlink:href=\"#DejaVuSans-101\"/>\n       <use x=\"389.404297\" xlink:href=\"#DejaVuSans-110\"/>\n       <use x=\"452.783203\" xlink:href=\"#DejaVuSans-115\"/>\n       <use x=\"504.882812\" xlink:href=\"#DejaVuSans-105\"/>\n       <use x=\"532.666016\" xlink:href=\"#DejaVuSans-111\"/>\n       <use x=\"593.847656\" xlink:href=\"#DejaVuSans-110\"/>\n      </g>\n     </g>\n    </g>\n    <g id=\"ytick_5\">\n     <g id=\"line2d_11\">\n      <g>\n       <use style=\"stroke:#000000;stroke-width:0.8;\" x=\"24.15625\" xlink:href=\"#m31e4bf9754\" y=\"418.699219\"/>\n      </g>\n     </g>\n     <g id=\"text_11\">\n      <!-- bmi -->\n      <g transform=\"translate(15.076563 433.767188)rotate(-90)scale(0.1 -0.1)\">\n       <use xlink:href=\"#DejaVuSans-98\"/>\n       <use x=\"63.476562\" xlink:href=\"#DejaVuSans-109\"/>\n       <use x=\"160.888672\" xlink:href=\"#DejaVuSans-105\"/>\n      </g>\n     </g>\n    </g>\n    <g id=\"ytick_6\">\n     <g id=\"line2d_12\">\n      <g>\n       <use style=\"stroke:#000000;stroke-width:0.8;\" x=\"24.15625\" xlink:href=\"#m31e4bf9754\" y=\"509.299219\"/>\n      </g>\n     </g>\n     <g id=\"text_12\">\n      <!-- avg_glucose_level -->\n      <g transform=\"translate(14.798438 596.120313)rotate(-90)scale(0.1 -0.1)\">\n       <use xlink:href=\"#DejaVuSans-97\"/>\n       <use x=\"61.279297\" xlink:href=\"#DejaVuSans-118\"/>\n       <use x=\"120.458984\" xlink:href=\"#DejaVuSans-103\"/>\n       <use x=\"183.935547\" xlink:href=\"#DejaVuSans-95\"/>\n       <use x=\"233.935547\" xlink:href=\"#DejaVuSans-103\"/>\n       <use x=\"297.412109\" xlink:href=\"#DejaVuSans-108\"/>\n       <use x=\"325.195312\" xlink:href=\"#DejaVuSans-117\"/>\n       <use x=\"388.574219\" xlink:href=\"#DejaVuSans-99\"/>\n       <use x=\"443.554688\" xlink:href=\"#DejaVuSans-111\"/>\n       <use x=\"504.736328\" xlink:href=\"#DejaVuSans-115\"/>\n       <use x=\"556.835938\" xlink:href=\"#DejaVuSans-101\"/>\n       <use x=\"618.359375\" xlink:href=\"#DejaVuSans-95\"/>\n       <use x=\"668.359375\" xlink:href=\"#DejaVuSans-108\"/>\n       <use x=\"696.142578\" xlink:href=\"#DejaVuSans-101\"/>\n       <use x=\"757.666016\" xlink:href=\"#DejaVuSans-118\"/>\n       <use x=\"816.845703\" xlink:href=\"#DejaVuSans-101\"/>\n       <use x=\"878.369141\" xlink:href=\"#DejaVuSans-108\"/>\n      </g>\n     </g>\n    </g>\n   </g>\n   <g id=\"text_13\">\n    <!-- 1 -->\n    <g style=\"fill:#262626;\" transform=\"translate(80.495 59.058594)scale(0.1 -0.1)\">\n     <defs>\n      <path d=\"M 12.40625 8.296875 \nL 28.515625 8.296875 \nL 28.515625 63.921875 \nL 10.984375 60.40625 \nL 10.984375 69.390625 \nL 28.421875 72.90625 \nL 38.28125 72.90625 \nL 38.28125 8.296875 \nL 54.390625 8.296875 \nL 54.390625 0 \nL 12.40625 0 \nz\n\" id=\"DejaVuSans-49\"/>\n     </defs>\n     <use xlink:href=\"#DejaVuSans-49\"/>\n    </g>\n   </g>\n   <g id=\"text_14\">\n    <!-- -0.11 -->\n    <g style=\"fill:#ffffff;\" transform=\"translate(189.779531 59.058594)scale(0.1 -0.1)\">\n     <defs>\n      <path d=\"M 4.890625 31.390625 \nL 31.203125 31.390625 \nL 31.203125 23.390625 \nL 4.890625 23.390625 \nz\n\" id=\"DejaVuSans-45\"/>\n      <path d=\"M 31.78125 66.40625 \nQ 24.171875 66.40625 20.328125 58.90625 \nQ 16.5 51.421875 16.5 36.375 \nQ 16.5 21.390625 20.328125 13.890625 \nQ 24.171875 6.390625 31.78125 6.390625 \nQ 39.453125 6.390625 43.28125 13.890625 \nQ 47.125 21.390625 47.125 36.375 \nQ 47.125 51.421875 43.28125 58.90625 \nQ 39.453125 66.40625 31.78125 66.40625 \nz\nM 31.78125 74.21875 \nQ 44.046875 74.21875 50.515625 64.515625 \nQ 56.984375 54.828125 56.984375 36.375 \nQ 56.984375 17.96875 50.515625 8.265625 \nQ 44.046875 -1.421875 31.78125 -1.421875 \nQ 19.53125 -1.421875 13.0625 8.265625 \nQ 6.59375 17.96875 6.59375 36.375 \nQ 6.59375 54.828125 13.0625 64.515625 \nQ 19.53125 74.21875 31.78125 74.21875 \nz\n\" id=\"DejaVuSans-48\"/>\n      <path d=\"M 10.6875 12.40625 \nL 21 12.40625 \nL 21 0 \nL 10.6875 0 \nz\n\" id=\"DejaVuSans-46\"/>\n     </defs>\n     <use xlink:href=\"#DejaVuSans-45\"/>\n     <use x=\"36.083984\" xlink:href=\"#DejaVuSans-48\"/>\n     <use x=\"99.707031\" xlink:href=\"#DejaVuSans-46\"/>\n     <use x=\"131.494141\" xlink:href=\"#DejaVuSans-49\"/>\n     <use x=\"195.117188\" xlink:href=\"#DejaVuSans-49\"/>\n    </g>\n   </g>\n   <g id=\"text_15\">\n    <!-- 0.21 -->\n    <g style=\"fill:#ffffff;\" transform=\"translate(310.623438 59.058594)scale(0.1 -0.1)\">\n     <defs>\n      <path d=\"M 19.1875 8.296875 \nL 53.609375 8.296875 \nL 53.609375 0 \nL 7.328125 0 \nL 7.328125 8.296875 \nQ 12.9375 14.109375 22.625 23.890625 \nQ 32.328125 33.6875 34.8125 36.53125 \nQ 39.546875 41.84375 41.421875 45.53125 \nQ 43.3125 49.21875 43.3125 52.78125 \nQ 43.3125 58.59375 39.234375 62.25 \nQ 35.15625 65.921875 28.609375 65.921875 \nQ 23.96875 65.921875 18.8125 64.3125 \nQ 13.671875 62.703125 7.8125 59.421875 \nL 7.8125 69.390625 \nQ 13.765625 71.78125 18.9375 73 \nQ 24.125 74.21875 28.421875 74.21875 \nQ 39.75 74.21875 46.484375 68.546875 \nQ 53.21875 62.890625 53.21875 53.421875 \nQ 53.21875 48.921875 51.53125 44.890625 \nQ 49.859375 40.875 45.40625 35.40625 \nQ 44.1875 33.984375 37.640625 27.21875 \nQ 31.109375 20.453125 19.1875 8.296875 \nz\n\" id=\"DejaVuSans-50\"/>\n     </defs>\n     <use xlink:href=\"#DejaVuSans-48\"/>\n     <use x=\"63.623047\" xlink:href=\"#DejaVuSans-46\"/>\n     <use x=\"95.410156\" xlink:href=\"#DejaVuSans-50\"/>\n     <use x=\"159.033203\" xlink:href=\"#DejaVuSans-49\"/>\n    </g>\n   </g>\n   <g id=\"text_16\">\n    <!-- 0.23 -->\n    <g style=\"fill:#ffffff;\" transform=\"translate(429.663438 59.058594)scale(0.1 -0.1)\">\n     <defs>\n      <path d=\"M 40.578125 39.3125 \nQ 47.65625 37.796875 51.625 33 \nQ 55.609375 28.21875 55.609375 21.1875 \nQ 55.609375 10.40625 48.1875 4.484375 \nQ 40.765625 -1.421875 27.09375 -1.421875 \nQ 22.515625 -1.421875 17.65625 -0.515625 \nQ 12.796875 0.390625 7.625 2.203125 \nL 7.625 11.71875 \nQ 11.71875 9.328125 16.59375 8.109375 \nQ 21.484375 6.890625 26.8125 6.890625 \nQ 36.078125 6.890625 40.9375 10.546875 \nQ 45.796875 14.203125 45.796875 21.1875 \nQ 45.796875 27.640625 41.28125 31.265625 \nQ 36.765625 34.90625 28.71875 34.90625 \nL 20.21875 34.90625 \nL 20.21875 43.015625 \nL 29.109375 43.015625 \nQ 36.375 43.015625 40.234375 45.921875 \nQ 44.09375 48.828125 44.09375 54.296875 \nQ 44.09375 59.90625 40.109375 62.90625 \nQ 36.140625 65.921875 28.71875 65.921875 \nQ 24.65625 65.921875 20.015625 65.03125 \nQ 15.375 64.15625 9.8125 62.3125 \nL 9.8125 71.09375 \nQ 15.4375 72.65625 20.34375 73.4375 \nQ 25.25 74.21875 29.59375 74.21875 \nQ 40.828125 74.21875 47.359375 69.109375 \nQ 53.90625 64.015625 53.90625 55.328125 \nQ 53.90625 49.265625 50.4375 45.09375 \nQ 46.96875 40.921875 40.578125 39.3125 \nz\n\" id=\"DejaVuSans-51\"/>\n     </defs>\n     <use xlink:href=\"#DejaVuSans-48\"/>\n     <use x=\"63.623047\" xlink:href=\"#DejaVuSans-46\"/>\n     <use x=\"95.410156\" xlink:href=\"#DejaVuSans-50\"/>\n     <use x=\"159.033203\" xlink:href=\"#DejaVuSans-51\"/>\n    </g>\n   </g>\n   <g id=\"text_17\">\n    <!-- 0.053 -->\n    <g style=\"fill:#ffffff;\" transform=\"translate(545.522188 59.058594)scale(0.1 -0.1)\">\n     <defs>\n      <path d=\"M 10.796875 72.90625 \nL 49.515625 72.90625 \nL 49.515625 64.59375 \nL 19.828125 64.59375 \nL 19.828125 46.734375 \nQ 21.96875 47.46875 24.109375 47.828125 \nQ 26.265625 48.1875 28.421875 48.1875 \nQ 40.625 48.1875 47.75 41.5 \nQ 54.890625 34.8125 54.890625 23.390625 \nQ 54.890625 11.625 47.5625 5.09375 \nQ 40.234375 -1.421875 26.90625 -1.421875 \nQ 22.3125 -1.421875 17.546875 -0.640625 \nQ 12.796875 0.140625 7.71875 1.703125 \nL 7.71875 11.625 \nQ 12.109375 9.234375 16.796875 8.0625 \nQ 21.484375 6.890625 26.703125 6.890625 \nQ 35.15625 6.890625 40.078125 11.328125 \nQ 45.015625 15.765625 45.015625 23.390625 \nQ 45.015625 31 40.078125 35.4375 \nQ 35.15625 39.890625 26.703125 39.890625 \nQ 22.75 39.890625 18.8125 39.015625 \nQ 14.890625 38.140625 10.796875 36.28125 \nz\n\" id=\"DejaVuSans-53\"/>\n     </defs>\n     <use xlink:href=\"#DejaVuSans-48\"/>\n     <use x=\"63.623047\" xlink:href=\"#DejaVuSans-46\"/>\n     <use x=\"95.410156\" xlink:href=\"#DejaVuSans-48\"/>\n     <use x=\"159.033203\" xlink:href=\"#DejaVuSans-53\"/>\n     <use x=\"222.65625\" xlink:href=\"#DejaVuSans-51\"/>\n    </g>\n   </g>\n   <g id=\"text_18\">\n    <!-- 0.2 -->\n    <g style=\"fill:#ffffff;\" transform=\"translate(670.924688 59.058594)scale(0.1 -0.1)\">\n     <use xlink:href=\"#DejaVuSans-48\"/>\n     <use x=\"63.623047\" xlink:href=\"#DejaVuSans-46\"/>\n     <use x=\"95.410156\" xlink:href=\"#DejaVuSans-50\"/>\n    </g>\n   </g>\n   <g id=\"text_19\">\n    <!-- -0.11 -->\n    <g style=\"fill:#ffffff;\" transform=\"translate(70.739531 149.658594)scale(0.1 -0.1)\">\n     <use xlink:href=\"#DejaVuSans-45\"/>\n     <use x=\"36.083984\" xlink:href=\"#DejaVuSans-48\"/>\n     <use x=\"99.707031\" xlink:href=\"#DejaVuSans-46\"/>\n     <use x=\"131.494141\" xlink:href=\"#DejaVuSans-49\"/>\n     <use x=\"195.117188\" xlink:href=\"#DejaVuSans-49\"/>\n    </g>\n   </g>\n   <g id=\"text_20\">\n    <!-- 1 -->\n    <g style=\"fill:#262626;\" transform=\"translate(199.535 149.658594)scale(0.1 -0.1)\">\n     <use xlink:href=\"#DejaVuSans-49\"/>\n    </g>\n   </g>\n   <g id=\"text_21\">\n    <!-- -0.051 -->\n    <g style=\"fill:#ffffff;\" transform=\"translate(305.638281 149.658594)scale(0.1 -0.1)\">\n     <use xlink:href=\"#DejaVuSans-45\"/>\n     <use x=\"36.083984\" xlink:href=\"#DejaVuSans-48\"/>\n     <use x=\"99.707031\" xlink:href=\"#DejaVuSans-46\"/>\n     <use x=\"131.494141\" xlink:href=\"#DejaVuSans-48\"/>\n     <use x=\"195.117188\" xlink:href=\"#DejaVuSans-53\"/>\n     <use x=\"258.740234\" xlink:href=\"#DejaVuSans-49\"/>\n    </g>\n   </g>\n   <g id=\"text_22\">\n    <!-- 0.02 -->\n    <g style=\"fill:#ffffff;\" transform=\"translate(429.663438 149.658594)scale(0.1 -0.1)\">\n     <use xlink:href=\"#DejaVuSans-48\"/>\n     <use x=\"63.623047\" xlink:href=\"#DejaVuSans-46\"/>\n     <use x=\"95.410156\" xlink:href=\"#DejaVuSans-48\"/>\n     <use x=\"159.033203\" xlink:href=\"#DejaVuSans-50\"/>\n    </g>\n   </g>\n   <g id=\"text_23\">\n    <!-- -0.17 -->\n    <g style=\"fill:#ffffff;\" transform=\"translate(546.899531 149.658594)scale(0.1 -0.1)\">\n     <defs>\n      <path d=\"M 8.203125 72.90625 \nL 55.078125 72.90625 \nL 55.078125 68.703125 \nL 28.609375 0 \nL 18.3125 0 \nL 43.21875 64.59375 \nL 8.203125 64.59375 \nz\n\" id=\"DejaVuSans-55\"/>\n     </defs>\n     <use xlink:href=\"#DejaVuSans-45\"/>\n     <use x=\"36.083984\" xlink:href=\"#DejaVuSans-48\"/>\n     <use x=\"99.707031\" xlink:href=\"#DejaVuSans-46\"/>\n     <use x=\"131.494141\" xlink:href=\"#DejaVuSans-49\"/>\n     <use x=\"195.117188\" xlink:href=\"#DejaVuSans-55\"/>\n    </g>\n   </g>\n   <g id=\"text_24\">\n    <!-- -0.13 -->\n    <g style=\"fill:#ffffff;\" transform=\"translate(665.939531 149.658594)scale(0.1 -0.1)\">\n     <use xlink:href=\"#DejaVuSans-45\"/>\n     <use x=\"36.083984\" xlink:href=\"#DejaVuSans-48\"/>\n     <use x=\"99.707031\" xlink:href=\"#DejaVuSans-46\"/>\n     <use x=\"131.494141\" xlink:href=\"#DejaVuSans-49\"/>\n     <use x=\"195.117188\" xlink:href=\"#DejaVuSans-51\"/>\n    </g>\n   </g>\n   <g id=\"text_25\">\n    <!-- 0.21 -->\n    <g style=\"fill:#ffffff;\" transform=\"translate(72.543438 240.258594)scale(0.1 -0.1)\">\n     <use xlink:href=\"#DejaVuSans-48\"/>\n     <use x=\"63.623047\" xlink:href=\"#DejaVuSans-46\"/>\n     <use x=\"95.410156\" xlink:href=\"#DejaVuSans-50\"/>\n     <use x=\"159.033203\" xlink:href=\"#DejaVuSans-49\"/>\n    </g>\n   </g>\n   <g id=\"text_26\">\n    <!-- -0.051 -->\n    <g style=\"fill:#ffffff;\" transform=\"translate(186.598281 240.258594)scale(0.1 -0.1)\">\n     <use xlink:href=\"#DejaVuSans-45\"/>\n     <use x=\"36.083984\" xlink:href=\"#DejaVuSans-48\"/>\n     <use x=\"99.707031\" xlink:href=\"#DejaVuSans-46\"/>\n     <use x=\"131.494141\" xlink:href=\"#DejaVuSans-48\"/>\n     <use x=\"195.117188\" xlink:href=\"#DejaVuSans-53\"/>\n     <use x=\"258.740234\" xlink:href=\"#DejaVuSans-49\"/>\n    </g>\n   </g>\n   <g id=\"text_27\">\n    <!-- 1 -->\n    <g style=\"fill:#262626;\" transform=\"translate(318.575 240.258594)scale(0.1 -0.1)\">\n     <use xlink:href=\"#DejaVuSans-49\"/>\n    </g>\n   </g>\n   <g id=\"text_28\">\n    <!-- 0.052 -->\n    <g style=\"fill:#ffffff;\" transform=\"translate(426.482188 240.258594)scale(0.1 -0.1)\">\n     <use xlink:href=\"#DejaVuSans-48\"/>\n     <use x=\"63.623047\" xlink:href=\"#DejaVuSans-46\"/>\n     <use x=\"95.410156\" xlink:href=\"#DejaVuSans-48\"/>\n     <use x=\"159.033203\" xlink:href=\"#DejaVuSans-53\"/>\n     <use x=\"222.65625\" xlink:href=\"#DejaVuSans-50\"/>\n    </g>\n   </g>\n   <g id=\"text_29\">\n    <!-- 0.054 -->\n    <g style=\"fill:#ffffff;\" transform=\"translate(545.522188 240.258594)scale(0.1 -0.1)\">\n     <defs>\n      <path d=\"M 37.796875 64.3125 \nL 12.890625 25.390625 \nL 37.796875 25.390625 \nz\nM 35.203125 72.90625 \nL 47.609375 72.90625 \nL 47.609375 25.390625 \nL 58.015625 25.390625 \nL 58.015625 17.1875 \nL 47.609375 17.1875 \nL 47.609375 0 \nL 37.796875 0 \nL 37.796875 17.1875 \nL 4.890625 17.1875 \nL 4.890625 26.703125 \nz\n\" id=\"DejaVuSans-52\"/>\n     </defs>\n     <use xlink:href=\"#DejaVuSans-48\"/>\n     <use x=\"63.623047\" xlink:href=\"#DejaVuSans-46\"/>\n     <use x=\"95.410156\" xlink:href=\"#DejaVuSans-48\"/>\n     <use x=\"159.033203\" xlink:href=\"#DejaVuSans-53\"/>\n     <use x=\"222.65625\" xlink:href=\"#DejaVuSans-52\"/>\n    </g>\n   </g>\n   <g id=\"text_30\">\n    <!-- 0.15 -->\n    <g style=\"fill:#ffffff;\" transform=\"translate(667.743438 240.258594)scale(0.1 -0.1)\">\n     <use xlink:href=\"#DejaVuSans-48\"/>\n     <use x=\"63.623047\" xlink:href=\"#DejaVuSans-46\"/>\n     <use x=\"95.410156\" xlink:href=\"#DejaVuSans-49\"/>\n     <use x=\"159.033203\" xlink:href=\"#DejaVuSans-53\"/>\n    </g>\n   </g>\n   <g id=\"text_31\">\n    <!-- 0.23 -->\n    <g style=\"fill:#ffffff;\" transform=\"translate(72.543438 330.858594)scale(0.1 -0.1)\">\n     <use xlink:href=\"#DejaVuSans-48\"/>\n     <use x=\"63.623047\" xlink:href=\"#DejaVuSans-46\"/>\n     <use x=\"95.410156\" xlink:href=\"#DejaVuSans-50\"/>\n     <use x=\"159.033203\" xlink:href=\"#DejaVuSans-51\"/>\n    </g>\n   </g>\n   <g id=\"text_32\">\n    <!-- 0.02 -->\n    <g style=\"fill:#ffffff;\" transform=\"translate(191.583438 330.858594)scale(0.1 -0.1)\">\n     <use xlink:href=\"#DejaVuSans-48\"/>\n     <use x=\"63.623047\" xlink:href=\"#DejaVuSans-46\"/>\n     <use x=\"95.410156\" xlink:href=\"#DejaVuSans-48\"/>\n     <use x=\"159.033203\" xlink:href=\"#DejaVuSans-50\"/>\n    </g>\n   </g>\n   <g id=\"text_33\">\n    <!-- 0.052 -->\n    <g style=\"fill:#ffffff;\" transform=\"translate(307.442188 330.858594)scale(0.1 -0.1)\">\n     <use xlink:href=\"#DejaVuSans-48\"/>\n     <use x=\"63.623047\" xlink:href=\"#DejaVuSans-46\"/>\n     <use x=\"95.410156\" xlink:href=\"#DejaVuSans-48\"/>\n     <use x=\"159.033203\" xlink:href=\"#DejaVuSans-53\"/>\n     <use x=\"222.65625\" xlink:href=\"#DejaVuSans-50\"/>\n    </g>\n   </g>\n   <g id=\"text_34\">\n    <!-- 1 -->\n    <g style=\"fill:#262626;\" transform=\"translate(437.615 330.858594)scale(0.1 -0.1)\">\n     <use xlink:href=\"#DejaVuSans-49\"/>\n    </g>\n   </g>\n   <g id=\"text_35\">\n    <!-- 0.071 -->\n    <g style=\"fill:#ffffff;\" transform=\"translate(545.522188 330.858594)scale(0.1 -0.1)\">\n     <use xlink:href=\"#DejaVuSans-48\"/>\n     <use x=\"63.623047\" xlink:href=\"#DejaVuSans-46\"/>\n     <use x=\"95.410156\" xlink:href=\"#DejaVuSans-48\"/>\n     <use x=\"159.033203\" xlink:href=\"#DejaVuSans-55\"/>\n     <use x=\"222.65625\" xlink:href=\"#DejaVuSans-49\"/>\n    </g>\n   </g>\n   <g id=\"text_36\">\n    <!-- 0.029 -->\n    <g style=\"fill:#ffffff;\" transform=\"translate(664.562188 330.858594)scale(0.1 -0.1)\">\n     <defs>\n      <path d=\"M 10.984375 1.515625 \nL 10.984375 10.5 \nQ 14.703125 8.734375 18.5 7.8125 \nQ 22.3125 6.890625 25.984375 6.890625 \nQ 35.75 6.890625 40.890625 13.453125 \nQ 46.046875 20.015625 46.78125 33.40625 \nQ 43.953125 29.203125 39.59375 26.953125 \nQ 35.25 24.703125 29.984375 24.703125 \nQ 19.046875 24.703125 12.671875 31.3125 \nQ 6.296875 37.9375 6.296875 49.421875 \nQ 6.296875 60.640625 12.9375 67.421875 \nQ 19.578125 74.21875 30.609375 74.21875 \nQ 43.265625 74.21875 49.921875 64.515625 \nQ 56.59375 54.828125 56.59375 36.375 \nQ 56.59375 19.140625 48.40625 8.859375 \nQ 40.234375 -1.421875 26.421875 -1.421875 \nQ 22.703125 -1.421875 18.890625 -0.6875 \nQ 15.09375 0.046875 10.984375 1.515625 \nz\nM 30.609375 32.421875 \nQ 37.25 32.421875 41.125 36.953125 \nQ 45.015625 41.5 45.015625 49.421875 \nQ 45.015625 57.28125 41.125 61.84375 \nQ 37.25 66.40625 30.609375 66.40625 \nQ 23.96875 66.40625 20.09375 61.84375 \nQ 16.21875 57.28125 16.21875 49.421875 \nQ 16.21875 41.5 20.09375 36.953125 \nQ 23.96875 32.421875 30.609375 32.421875 \nz\n\" id=\"DejaVuSans-57\"/>\n     </defs>\n     <use xlink:href=\"#DejaVuSans-48\"/>\n     <use x=\"63.623047\" xlink:href=\"#DejaVuSans-46\"/>\n     <use x=\"95.410156\" xlink:href=\"#DejaVuSans-48\"/>\n     <use x=\"159.033203\" xlink:href=\"#DejaVuSans-50\"/>\n     <use x=\"222.65625\" xlink:href=\"#DejaVuSans-57\"/>\n    </g>\n   </g>\n   <g id=\"text_37\">\n    <!-- 0.053 -->\n    <g style=\"fill:#ffffff;\" transform=\"translate(69.362188 421.458594)scale(0.1 -0.1)\">\n     <use xlink:href=\"#DejaVuSans-48\"/>\n     <use x=\"63.623047\" xlink:href=\"#DejaVuSans-46\"/>\n     <use x=\"95.410156\" xlink:href=\"#DejaVuSans-48\"/>\n     <use x=\"159.033203\" xlink:href=\"#DejaVuSans-53\"/>\n     <use x=\"222.65625\" xlink:href=\"#DejaVuSans-51\"/>\n    </g>\n   </g>\n   <g id=\"text_38\">\n    <!-- -0.17 -->\n    <g style=\"fill:#ffffff;\" transform=\"translate(189.779531 421.458594)scale(0.1 -0.1)\">\n     <use xlink:href=\"#DejaVuSans-45\"/>\n     <use x=\"36.083984\" xlink:href=\"#DejaVuSans-48\"/>\n     <use x=\"99.707031\" xlink:href=\"#DejaVuSans-46\"/>\n     <use x=\"131.494141\" xlink:href=\"#DejaVuSans-49\"/>\n     <use x=\"195.117188\" xlink:href=\"#DejaVuSans-55\"/>\n    </g>\n   </g>\n   <g id=\"text_39\">\n    <!-- 0.054 -->\n    <g style=\"fill:#ffffff;\" transform=\"translate(307.442188 421.458594)scale(0.1 -0.1)\">\n     <use xlink:href=\"#DejaVuSans-48\"/>\n     <use x=\"63.623047\" xlink:href=\"#DejaVuSans-46\"/>\n     <use x=\"95.410156\" xlink:href=\"#DejaVuSans-48\"/>\n     <use x=\"159.033203\" xlink:href=\"#DejaVuSans-53\"/>\n     <use x=\"222.65625\" xlink:href=\"#DejaVuSans-52\"/>\n    </g>\n   </g>\n   <g id=\"text_40\">\n    <!-- 0.071 -->\n    <g style=\"fill:#ffffff;\" transform=\"translate(426.482188 421.458594)scale(0.1 -0.1)\">\n     <use xlink:href=\"#DejaVuSans-48\"/>\n     <use x=\"63.623047\" xlink:href=\"#DejaVuSans-46\"/>\n     <use x=\"95.410156\" xlink:href=\"#DejaVuSans-48\"/>\n     <use x=\"159.033203\" xlink:href=\"#DejaVuSans-55\"/>\n     <use x=\"222.65625\" xlink:href=\"#DejaVuSans-49\"/>\n    </g>\n   </g>\n   <g id=\"text_41\">\n    <!-- 1 -->\n    <g style=\"fill:#262626;\" transform=\"translate(556.655 421.458594)scale(0.1 -0.1)\">\n     <use xlink:href=\"#DejaVuSans-49\"/>\n    </g>\n   </g>\n   <g id=\"text_42\">\n    <!-- 0.24 -->\n    <g style=\"fill:#ffffff;\" transform=\"translate(667.743438 421.458594)scale(0.1 -0.1)\">\n     <use xlink:href=\"#DejaVuSans-48\"/>\n     <use x=\"63.623047\" xlink:href=\"#DejaVuSans-46\"/>\n     <use x=\"95.410156\" xlink:href=\"#DejaVuSans-50\"/>\n     <use x=\"159.033203\" xlink:href=\"#DejaVuSans-52\"/>\n    </g>\n   </g>\n   <g id=\"text_43\">\n    <!-- 0.2 -->\n    <g style=\"fill:#ffffff;\" transform=\"translate(75.724688 512.058594)scale(0.1 -0.1)\">\n     <use xlink:href=\"#DejaVuSans-48\"/>\n     <use x=\"63.623047\" xlink:href=\"#DejaVuSans-46\"/>\n     <use x=\"95.410156\" xlink:href=\"#DejaVuSans-50\"/>\n    </g>\n   </g>\n   <g id=\"text_44\">\n    <!-- -0.13 -->\n    <g style=\"fill:#ffffff;\" transform=\"translate(189.779531 512.058594)scale(0.1 -0.1)\">\n     <use xlink:href=\"#DejaVuSans-45\"/>\n     <use x=\"36.083984\" xlink:href=\"#DejaVuSans-48\"/>\n     <use x=\"99.707031\" xlink:href=\"#DejaVuSans-46\"/>\n     <use x=\"131.494141\" xlink:href=\"#DejaVuSans-49\"/>\n     <use x=\"195.117188\" xlink:href=\"#DejaVuSans-51\"/>\n    </g>\n   </g>\n   <g id=\"text_45\">\n    <!-- 0.15 -->\n    <g style=\"fill:#ffffff;\" transform=\"translate(310.623438 512.058594)scale(0.1 -0.1)\">\n     <use xlink:href=\"#DejaVuSans-48\"/>\n     <use x=\"63.623047\" xlink:href=\"#DejaVuSans-46\"/>\n     <use x=\"95.410156\" xlink:href=\"#DejaVuSans-49\"/>\n     <use x=\"159.033203\" xlink:href=\"#DejaVuSans-53\"/>\n    </g>\n   </g>\n   <g id=\"text_46\">\n    <!-- 0.029 -->\n    <g style=\"fill:#ffffff;\" transform=\"translate(426.482188 512.058594)scale(0.1 -0.1)\">\n     <use xlink:href=\"#DejaVuSans-48\"/>\n     <use x=\"63.623047\" xlink:href=\"#DejaVuSans-46\"/>\n     <use x=\"95.410156\" xlink:href=\"#DejaVuSans-48\"/>\n     <use x=\"159.033203\" xlink:href=\"#DejaVuSans-50\"/>\n     <use x=\"222.65625\" xlink:href=\"#DejaVuSans-57\"/>\n    </g>\n   </g>\n   <g id=\"text_47\">\n    <!-- 0.24 -->\n    <g style=\"fill:#ffffff;\" transform=\"translate(548.703438 512.058594)scale(0.1 -0.1)\">\n     <use xlink:href=\"#DejaVuSans-48\"/>\n     <use x=\"63.623047\" xlink:href=\"#DejaVuSans-46\"/>\n     <use x=\"95.410156\" xlink:href=\"#DejaVuSans-50\"/>\n     <use x=\"159.033203\" xlink:href=\"#DejaVuSans-52\"/>\n    </g>\n   </g>\n   <g id=\"text_48\">\n    <!-- 1 -->\n    <g style=\"fill:#262626;\" transform=\"translate(675.695 512.058594)scale(0.1 -0.1)\">\n     <use xlink:href=\"#DejaVuSans-49\"/>\n    </g>\n   </g>\n  </g>\n  <g id=\"axes_2\">\n   <g id=\"patch_3\">\n    <path clip-path=\"url(#pac5d6f9db5)\" d=\"M 783.03625 554.599219 \nL 783.03625 552.475781 \nL 783.03625 13.122656 \nL 783.03625 10.999219 \nL 810.21625 10.999219 \nL 810.21625 13.122656 \nL 810.21625 552.475781 \nL 810.21625 554.599219 \nz\n\" style=\"fill:#ffffff;stroke:#ffffff;stroke-linejoin:miter;stroke-width:0.01;\"/>\n   </g>\n   <image height=\"543\" id=\"imagedb774c207e\" transform=\"scale(1 -1)translate(0 -543)\" width=\"27\" x=\"783\" xlink:href=\"data:image/png;base64,\niVBORw0KGgoAAAANSUhEUgAAABsAAAIfCAYAAACB2qdqAAACiklEQVR4nO2dgW0DIAwEgdAluv+e6RA9WeJ0t4D1/NsmKG325+f3u4a4e6rSWusM1lp37zlto8o6RoS7l1aZ1rOjVeZNo9gzrbJjTWMBQaipEWpqBLFnXQsISuN7xRpXCHmGcPeeq9eKQTCvmDwDEC/PAkKQZwh5htBVDqHrN4J5eWoD0rgiKI0IYs+8yrxfGNJeUlsxCOamtkbf7JlW2WS1+gzB22c1NYK4qbXRV4+rOZogCOI+06ax6COIo99zEkHjCkE9QebIMwSvZy1PBPPy1HqmbeoGMUITBME7QYo+QtFHKI0IpRFhWNnYv2mqz14spm7qORpXCKURoRWDUBoRxMtTe4w1NUJpRBAr29o+83qmVdaKQWjFIJRGBHUa50wrjQjeCVJTI9zz1Tb1YLHSiNCKQZhOo9azwWLi5ak9xqKPkGcI5uU5eOMpjQjeCTL9B/fagGiViT+feT3TKjN7NlesNL5XrOgjFH0EcxoHXzfrMwS1Z1JljSuEO/i7XUWfQT2u5orlGYJZWWkEEF8LWp4EeYbgbWqxZ6s+A0jZe8W8x3gny+UZQp4h5BnC3YPf8sqz94oVEIRpZVbPSiNBaURQp1GqrGNEEP8kmdczs7K5enmG0PJEMC/PwfekAoIgVrZbMQBNEASzZ9Y+KyAINTVCyxNB7Fl9RtDyfK/YXeLHTWlA1Mq0aRSvGKsy8bOtNY1FH8GsrAsPQOMKweyZV5l1ghQQBLOyBjFAniHkGUKevVfMe4xFHyHPEPIMIc8Q7t6fsWJ59l4x7zE2rhDyDOGuox3EYs+0yqyedbtCKPoIeYag9kw7QcSeSZVNL0/pMXoDom7qBvH/qc8Qmo0I4uVpbmrpIP4Dkesv/Wf6KSkAAAAASUVORK5CYII=\" y=\"-11\"/>\n   <g id=\"matplotlib.axis_3\"/>\n   <g id=\"matplotlib.axis_4\">\n    <g id=\"ytick_7\">\n     <g id=\"line2d_13\">\n      <defs>\n       <path d=\"M 0 0 \nL 3.5 0 \n\" id=\"m7f248786a9\" style=\"stroke:#000000;stroke-width:0.8;\"/>\n      </defs>\n      <g>\n       <use style=\"stroke:#000000;stroke-width:0.8;\" x=\"810.21625\" xlink:href=\"#m7f248786a9\" y=\"476.474487\"/>\n      </g>\n     </g>\n     <g id=\"text_49\">\n      <!-- 0.0 -->\n      <g transform=\"translate(817.21625 480.273706)scale(0.1 -0.1)\">\n       <use xlink:href=\"#DejaVuSans-48\"/>\n       <use x=\"63.623047\" xlink:href=\"#DejaVuSans-46\"/>\n       <use x=\"95.410156\" xlink:href=\"#DejaVuSans-48\"/>\n      </g>\n     </g>\n    </g>\n    <g id=\"ytick_8\">\n     <g id=\"line2d_14\">\n      <g>\n       <use style=\"stroke:#000000;stroke-width:0.8;\" x=\"810.21625\" xlink:href=\"#m7f248786a9\" y=\"383.379433\"/>\n      </g>\n     </g>\n     <g id=\"text_50\">\n      <!-- 0.2 -->\n      <g transform=\"translate(817.21625 387.178652)scale(0.1 -0.1)\">\n       <use xlink:href=\"#DejaVuSans-48\"/>\n       <use x=\"63.623047\" xlink:href=\"#DejaVuSans-46\"/>\n       <use x=\"95.410156\" xlink:href=\"#DejaVuSans-50\"/>\n      </g>\n     </g>\n    </g>\n    <g id=\"ytick_9\">\n     <g id=\"line2d_15\">\n      <g>\n       <use style=\"stroke:#000000;stroke-width:0.8;\" x=\"810.21625\" xlink:href=\"#m7f248786a9\" y=\"290.28438\"/>\n      </g>\n     </g>\n     <g id=\"text_51\">\n      <!-- 0.4 -->\n      <g transform=\"translate(817.21625 294.083598)scale(0.1 -0.1)\">\n       <use xlink:href=\"#DejaVuSans-48\"/>\n       <use x=\"63.623047\" xlink:href=\"#DejaVuSans-46\"/>\n       <use x=\"95.410156\" xlink:href=\"#DejaVuSans-52\"/>\n      </g>\n     </g>\n    </g>\n    <g id=\"ytick_10\">\n     <g id=\"line2d_16\">\n      <g>\n       <use style=\"stroke:#000000;stroke-width:0.8;\" x=\"810.21625\" xlink:href=\"#m7f248786a9\" y=\"197.189326\"/>\n      </g>\n     </g>\n     <g id=\"text_52\">\n      <!-- 0.6 -->\n      <g transform=\"translate(817.21625 200.988545)scale(0.1 -0.1)\">\n       <defs>\n        <path d=\"M 33.015625 40.375 \nQ 26.375 40.375 22.484375 35.828125 \nQ 18.609375 31.296875 18.609375 23.390625 \nQ 18.609375 15.53125 22.484375 10.953125 \nQ 26.375 6.390625 33.015625 6.390625 \nQ 39.65625 6.390625 43.53125 10.953125 \nQ 47.40625 15.53125 47.40625 23.390625 \nQ 47.40625 31.296875 43.53125 35.828125 \nQ 39.65625 40.375 33.015625 40.375 \nz\nM 52.59375 71.296875 \nL 52.59375 62.3125 \nQ 48.875 64.0625 45.09375 64.984375 \nQ 41.3125 65.921875 37.59375 65.921875 \nQ 27.828125 65.921875 22.671875 59.328125 \nQ 17.53125 52.734375 16.796875 39.40625 \nQ 19.671875 43.65625 24.015625 45.921875 \nQ 28.375 48.1875 33.59375 48.1875 \nQ 44.578125 48.1875 50.953125 41.515625 \nQ 57.328125 34.859375 57.328125 23.390625 \nQ 57.328125 12.15625 50.6875 5.359375 \nQ 44.046875 -1.421875 33.015625 -1.421875 \nQ 20.359375 -1.421875 13.671875 8.265625 \nQ 6.984375 17.96875 6.984375 36.375 \nQ 6.984375 53.65625 15.1875 63.9375 \nQ 23.390625 74.21875 37.203125 74.21875 \nQ 40.921875 74.21875 44.703125 73.484375 \nQ 48.484375 72.75 52.59375 71.296875 \nz\n\" id=\"DejaVuSans-54\"/>\n       </defs>\n       <use xlink:href=\"#DejaVuSans-48\"/>\n       <use x=\"63.623047\" xlink:href=\"#DejaVuSans-46\"/>\n       <use x=\"95.410156\" xlink:href=\"#DejaVuSans-54\"/>\n      </g>\n     </g>\n    </g>\n    <g id=\"ytick_11\">\n     <g id=\"line2d_17\">\n      <g>\n       <use style=\"stroke:#000000;stroke-width:0.8;\" x=\"810.21625\" xlink:href=\"#m7f248786a9\" y=\"104.094272\"/>\n      </g>\n     </g>\n     <g id=\"text_53\">\n      <!-- 0.8 -->\n      <g transform=\"translate(817.21625 107.893491)scale(0.1 -0.1)\">\n       <defs>\n        <path d=\"M 31.78125 34.625 \nQ 24.75 34.625 20.71875 30.859375 \nQ 16.703125 27.09375 16.703125 20.515625 \nQ 16.703125 13.921875 20.71875 10.15625 \nQ 24.75 6.390625 31.78125 6.390625 \nQ 38.8125 6.390625 42.859375 10.171875 \nQ 46.921875 13.96875 46.921875 20.515625 \nQ 46.921875 27.09375 42.890625 30.859375 \nQ 38.875 34.625 31.78125 34.625 \nz\nM 21.921875 38.8125 \nQ 15.578125 40.375 12.03125 44.71875 \nQ 8.5 49.078125 8.5 55.328125 \nQ 8.5 64.0625 14.71875 69.140625 \nQ 20.953125 74.21875 31.78125 74.21875 \nQ 42.671875 74.21875 48.875 69.140625 \nQ 55.078125 64.0625 55.078125 55.328125 \nQ 55.078125 49.078125 51.53125 44.71875 \nQ 48 40.375 41.703125 38.8125 \nQ 48.828125 37.15625 52.796875 32.3125 \nQ 56.78125 27.484375 56.78125 20.515625 \nQ 56.78125 9.90625 50.3125 4.234375 \nQ 43.84375 -1.421875 31.78125 -1.421875 \nQ 19.734375 -1.421875 13.25 4.234375 \nQ 6.78125 9.90625 6.78125 20.515625 \nQ 6.78125 27.484375 10.78125 32.3125 \nQ 14.796875 37.15625 21.921875 38.8125 \nz\nM 18.3125 54.390625 \nQ 18.3125 48.734375 21.84375 45.5625 \nQ 25.390625 42.390625 31.78125 42.390625 \nQ 38.140625 42.390625 41.71875 45.5625 \nQ 45.3125 48.734375 45.3125 54.390625 \nQ 45.3125 60.0625 41.71875 63.234375 \nQ 38.140625 66.40625 31.78125 66.40625 \nQ 25.390625 66.40625 21.84375 63.234375 \nQ 18.3125 60.0625 18.3125 54.390625 \nz\n\" id=\"DejaVuSans-56\"/>\n       </defs>\n       <use xlink:href=\"#DejaVuSans-48\"/>\n       <use x=\"63.623047\" xlink:href=\"#DejaVuSans-46\"/>\n       <use x=\"95.410156\" xlink:href=\"#DejaVuSans-56\"/>\n      </g>\n     </g>\n    </g>\n    <g id=\"ytick_12\">\n     <g id=\"line2d_18\">\n      <g>\n       <use style=\"stroke:#000000;stroke-width:0.8;\" x=\"810.21625\" xlink:href=\"#m7f248786a9\" y=\"10.999219\"/>\n      </g>\n     </g>\n     <g id=\"text_54\">\n      <!-- 1.0 -->\n      <g transform=\"translate(817.21625 14.798438)scale(0.1 -0.1)\">\n       <use xlink:href=\"#DejaVuSans-49\"/>\n       <use x=\"63.623047\" xlink:href=\"#DejaVuSans-46\"/>\n       <use x=\"95.410156\" xlink:href=\"#DejaVuSans-48\"/>\n      </g>\n     </g>\n    </g>\n   </g>\n   <g id=\"patch_4\">\n    <path d=\"M 783.03625 554.599219 \nL 783.03625 552.475781 \nL 783.03625 13.122656 \nL 783.03625 10.999219 \nL 810.21625 10.999219 \nL 810.21625 13.122656 \nL 810.21625 552.475781 \nL 810.21625 554.599219 \nz\n\" style=\"fill:none;\"/>\n   </g>\n  </g>\n </g>\n <defs>\n  <clipPath id=\"p4f92babc24\">\n   <rect height=\"543.6\" width=\"714.24\" x=\"24.15625\" y=\"10.999219\"/>\n  </clipPath>\n  <clipPath id=\"pac5d6f9db5\">\n   <rect height=\"543.6\" width=\"27.18\" x=\"783.03625\" y=\"10.999219\"/>\n  </clipPath>\n </defs>\n</svg>\n",
      "image/png": "[encoded data removed]"
     },
     "metadata": {
      "needs_background": "light"
     }
    }
   ],
   "source": [
    "# Visualize the correlations.\n",
    "import seaborn as sb\n",
    "import matplotlib.pyplot as plt\n",
    "plt.figure(figsize=(16,10))\n",
    "sb.heatmap(clean_stroke_df.corr(), annot=True)"
   ]
  },
  {
   "source": [
    "### Quick analysis \n",
    "\n",
    "A quick glance shows that age seems to be the most correlated with having a stroke."
   ],
   "cell_type": "markdown",
   "metadata": {}
  },
  {
   "source": [
    "## Prepare to build a supervised neural network model"
   ],
   "cell_type": "markdown",
   "metadata": {}
  },
  {
   "cell_type": "code",
   "execution_count": 9,
   "metadata": {},
   "outputs": [
    {
     "output_type": "execute_result",
     "data": {
      "text/plain": [
       "age                    65\n",
       "current_smoker          2\n",
       "stroke                  2\n",
       "hypertension            2\n",
       "bmi                  1573\n",
       "avg_glucose_level     231\n",
       "gender                  3\n",
       "dtype: int64"
      ]
     },
     "metadata": {},
     "execution_count": 9
    }
   ],
   "source": [
    "# Determine the number of unique values in each column.\n",
    "clean_stroke_df.nunique()"
   ]
  },
  {
   "source": [
    "### Possible binning fields\n",
    "\n",
    "- work_type"
   ],
   "cell_type": "markdown",
   "metadata": {}
  },
  {
   "source": [
    "Looks like there isn't binning worth in work_types field"
   ],
   "cell_type": "markdown",
   "metadata": {}
  },
  {
   "source": [
    "## Classify the data"
   ],
   "cell_type": "markdown",
   "metadata": {}
  },
  {
   "cell_type": "code",
   "execution_count": 10,
   "metadata": {},
   "outputs": [],
   "source": [
    "# Generate categorical variable list\n",
    "stroke_cat = stroke_df.dtypes[stroke_df.dtypes == \"object\"].index.tolist()"
   ]
  },
  {
   "cell_type": "code",
   "execution_count": 11,
   "metadata": {},
   "outputs": [
    {
     "output_type": "execute_result",
     "data": {
      "text/plain": [
       "   gender_Female  gender_Male  gender_Other\n",
       "0            0.0          1.0           0.0\n",
       "1            1.0          0.0           0.0\n",
       "2            0.0          1.0           0.0\n",
       "3            1.0          0.0           0.0\n",
       "4            1.0          0.0           0.0"
      ],
      "text/html": "<div>\n<style scoped>\n    .dataframe tbody tr th:only-of-type {\n        vertical-align: middle;\n    }\n\n    .dataframe tbody tr th {\n        vertical-align: top;\n    }\n\n    .dataframe thead th {\n        text-align: right;\n    }\n</style>\n<table border=\"1\" class=\"dataframe\">\n  <thead>\n    <tr style=\"text-align: right;\">\n      <th></th>\n      <th>gender_Female</th>\n      <th>gender_Male</th>\n      <th>gender_Other</th>\n    </tr>\n  </thead>\n  <tbody>\n    <tr>\n      <th>0</th>\n      <td>0.0</td>\n      <td>1.0</td>\n      <td>0.0</td>\n    </tr>\n    <tr>\n      <th>1</th>\n      <td>1.0</td>\n      <td>0.0</td>\n      <td>0.0</td>\n    </tr>\n    <tr>\n      <th>2</th>\n      <td>0.0</td>\n      <td>1.0</td>\n      <td>0.0</td>\n    </tr>\n    <tr>\n      <th>3</th>\n      <td>1.0</td>\n      <td>0.0</td>\n      <td>0.0</td>\n    </tr>\n    <tr>\n      <th>4</th>\n      <td>1.0</td>\n      <td>0.0</td>\n      <td>0.0</td>\n    </tr>\n  </tbody>\n</table>\n</div>"
     },
     "metadata": {},
     "execution_count": 11
    }
   ],
   "source": [
    "# Create a OneHotEncoder instance\n",
    "enc = OneHotEncoder(sparse=False)\n",
    "\n",
    "# Fit and transform the OneHotEncoder using the categorical variable list\n",
    "encode_df = pd.DataFrame(enc.fit_transform(stroke_df[stroke_cat]))\n",
    "\n",
    "# Add the encoded variable names to the dataframe\n",
    "encode_df.columns = enc.get_feature_names(stroke_cat)\n",
    "encode_df.head()"
   ]
  },
  {
   "cell_type": "code",
   "execution_count": 12,
   "metadata": {},
   "outputs": [
    {
     "output_type": "execute_result",
     "data": {
      "text/plain": [
       "   id   age  current_smoker  stroke  hypertension    bmi  avg_glucose_level  \\\n",
       "0   1  39.0               0       0             0  26.97                 77   \n",
       "1   2  46.0               0       0             0  28.73                 76   \n",
       "2   3  48.0               1       0             0  25.34                 70   \n",
       "3   4  61.0               1       0             1  28.58                103   \n",
       "4   5  46.0               1       0             0  23.10                 85   \n",
       "\n",
       "   clean_data_id  gender_Female  gender_Male  gender_Other  \n",
       "0              1            0.0          1.0           0.0  \n",
       "1              2            1.0          0.0           0.0  \n",
       "2              3            0.0          1.0           0.0  \n",
       "3              4            1.0          0.0           0.0  \n",
       "4              5            1.0          0.0           0.0  "
      ],
      "text/html": "<div>\n<style scoped>\n    .dataframe tbody tr th:only-of-type {\n        vertical-align: middle;\n    }\n\n    .dataframe tbody tr th {\n        vertical-align: top;\n    }\n\n    .dataframe thead th {\n        text-align: right;\n    }\n</style>\n<table border=\"1\" class=\"dataframe\">\n  <thead>\n    <tr style=\"text-align: right;\">\n      <th></th>\n      <th>id</th>\n      <th>age</th>\n      <th>current_smoker</th>\n      <th>stroke</th>\n      <th>hypertension</th>\n      <th>bmi</th>\n      <th>avg_glucose_level</th>\n      <th>clean_data_id</th>\n      <th>gender_Female</th>\n      <th>gender_Male</th>\n      <th>gender_Other</th>\n    </tr>\n  </thead>\n  <tbody>\n    <tr>\n      <th>0</th>\n      <td>1</td>\n      <td>39.0</td>\n      <td>0</td>\n      <td>0</td>\n      <td>0</td>\n      <td>26.97</td>\n      <td>77</td>\n      <td>1</td>\n      <td>0.0</td>\n      <td>1.0</td>\n      <td>0.0</td>\n    </tr>\n    <tr>\n      <th>1</th>\n      <td>2</td>\n      <td>46.0</td>\n      <td>0</td>\n      <td>0</td>\n      <td>0</td>\n      <td>28.73</td>\n      <td>76</td>\n      <td>2</td>\n      <td>1.0</td>\n      <td>0.0</td>\n      <td>0.0</td>\n    </tr>\n    <tr>\n      <th>2</th>\n      <td>3</td>\n      <td>48.0</td>\n      <td>1</td>\n      <td>0</td>\n      <td>0</td>\n      <td>25.34</td>\n      <td>70</td>\n      <td>3</td>\n      <td>0.0</td>\n      <td>1.0</td>\n      <td>0.0</td>\n    </tr>\n    <tr>\n      <th>3</th>\n      <td>4</td>\n      <td>61.0</td>\n      <td>1</td>\n      <td>0</td>\n      <td>1</td>\n      <td>28.58</td>\n      <td>103</td>\n      <td>4</td>\n      <td>1.0</td>\n      <td>0.0</td>\n      <td>0.0</td>\n    </tr>\n    <tr>\n      <th>4</th>\n      <td>5</td>\n      <td>46.0</td>\n      <td>1</td>\n      <td>0</td>\n      <td>0</td>\n      <td>23.10</td>\n      <td>85</td>\n      <td>5</td>\n      <td>1.0</td>\n      <td>0.0</td>\n      <td>0.0</td>\n    </tr>\n  </tbody>\n</table>\n</div>"
     },
     "metadata": {},
     "execution_count": 12
    }
   ],
   "source": [
    "# Merge one-hot encoded features and drop the originals\n",
    "scaled_stroke_df = stroke_df.merge(encode_df, left_index=True, right_index=True)\n",
    "scaled_stroke_df.head()\n",
    "scaled_stroke_df = scaled_stroke_df.drop(stroke_cat, 1)\n",
    "scaled_stroke_df.head()"
   ]
  },
  {
   "cell_type": "code",
   "execution_count": 13,
   "metadata": {},
   "outputs": [
    {
     "output_type": "stream",
     "name": "stdout",
     "text": [
      "Scaled Data inserted\n"
     ]
    }
   ],
   "source": [
    "# Save the scaled data to the database for later use.\n",
    "\n",
    "# Delete tables if existing\n",
    "with engine.connect() as con:\n",
    "    con.execute('DROP TABLE IF EXISTS scaled_data;')\n",
    "\n",
    "# Create the tables\n",
    "with engine.connect() as con:\n",
    "    sql = \"\"\"\n",
    "    CREATE TABLE \"scaled_data\" (\n",
    "        \"id\" serial   NOT NULL,\n",
    "        \"clean_data_id\" int   NOT NULL,\n",
    "        \"age\" float   NOT NULL,\n",
    "        \"current_smoker\" int   NOT NULL,\n",
    "        \"stroke\" int   NOT NULL,\n",
    "        \"hypertension\" int   NOT NULL,\n",
    "        \"bmi\" float   NOT NULL,\n",
    "        \"avg_glucose_level\" int   NOT NULL,\n",
    "        \"gender_Female\" int   NOT NULL,\n",
    "        \"gender_Male\" int   NOT NULL,\n",
    "        \"gender_Other\" int   NOT NULL,\n",
    "        CONSTRAINT \"pk_scaled_data\" PRIMARY KEY (\n",
    "            \"id\"\n",
    "        )\n",
    "    );\n",
    "\n",
    "    ALTER TABLE \"scaled_data\" ADD CONSTRAINT \"fk_scaled_data_clean_data_id\" FOREIGN KEY(\"clean_data_id\")\n",
    "    REFERENCES \"clean_data\" (\"id\");\n",
    "    \"\"\"\n",
    "    engine.execute(sql)\n",
    "scaled_stroke_df.to_sql(name='scaled_data', con=engine, if_exists=\"append\", index=False)\n",
    "print('Scaled Data inserted')"
   ]
  },
  {
   "cell_type": "code",
   "execution_count": 14,
   "metadata": {},
   "outputs": [
    {
     "output_type": "execute_result",
     "data": {
      "text/plain": [
       "    age  current_smoker  stroke  hypertension    bmi  avg_glucose_level  \\\n",
       "0  39.0               0       0             0  26.97                 77   \n",
       "1  46.0               0       0             0  28.73                 76   \n",
       "2  48.0               1       0             0  25.34                 70   \n",
       "3  61.0               1       0             1  28.58                103   \n",
       "4  46.0               1       0             0  23.10                 85   \n",
       "\n",
       "   gender_Female  gender_Male  gender_Other  \n",
       "0            0.0          1.0           0.0  \n",
       "1            1.0          0.0           0.0  \n",
       "2            0.0          1.0           0.0  \n",
       "3            1.0          0.0           0.0  \n",
       "4            1.0          0.0           0.0  "
      ],
      "text/html": "<div>\n<style scoped>\n    .dataframe tbody tr th:only-of-type {\n        vertical-align: middle;\n    }\n\n    .dataframe tbody tr th {\n        vertical-align: top;\n    }\n\n    .dataframe thead th {\n        text-align: right;\n    }\n</style>\n<table border=\"1\" class=\"dataframe\">\n  <thead>\n    <tr style=\"text-align: right;\">\n      <th></th>\n      <th>age</th>\n      <th>current_smoker</th>\n      <th>stroke</th>\n      <th>hypertension</th>\n      <th>bmi</th>\n      <th>avg_glucose_level</th>\n      <th>gender_Female</th>\n      <th>gender_Male</th>\n      <th>gender_Other</th>\n    </tr>\n  </thead>\n  <tbody>\n    <tr>\n      <th>0</th>\n      <td>39.0</td>\n      <td>0</td>\n      <td>0</td>\n      <td>0</td>\n      <td>26.97</td>\n      <td>77</td>\n      <td>0.0</td>\n      <td>1.0</td>\n      <td>0.0</td>\n    </tr>\n    <tr>\n      <th>1</th>\n      <td>46.0</td>\n      <td>0</td>\n      <td>0</td>\n      <td>0</td>\n      <td>28.73</td>\n      <td>76</td>\n      <td>1.0</td>\n      <td>0.0</td>\n      <td>0.0</td>\n    </tr>\n    <tr>\n      <th>2</th>\n      <td>48.0</td>\n      <td>1</td>\n      <td>0</td>\n      <td>0</td>\n      <td>25.34</td>\n      <td>70</td>\n      <td>0.0</td>\n      <td>1.0</td>\n      <td>0.0</td>\n    </tr>\n    <tr>\n      <th>3</th>\n      <td>61.0</td>\n      <td>1</td>\n      <td>0</td>\n      <td>1</td>\n      <td>28.58</td>\n      <td>103</td>\n      <td>1.0</td>\n      <td>0.0</td>\n      <td>0.0</td>\n    </tr>\n    <tr>\n      <th>4</th>\n      <td>46.0</td>\n      <td>1</td>\n      <td>0</td>\n      <td>0</td>\n      <td>23.10</td>\n      <td>85</td>\n      <td>1.0</td>\n      <td>0.0</td>\n      <td>0.0</td>\n    </tr>\n  </tbody>\n</table>\n</div>"
     },
     "metadata": {},
     "execution_count": 14
    }
   ],
   "source": [
    "# remove the foreign key for model building\n",
    "scaled_stroke_df = scaled_stroke_df.drop(columns=[\"clean_data_id\", 'id'])\n",
    "scaled_stroke_df.head()"
   ]
  },
  {
   "source": [
    "## Build the model"
   ],
   "cell_type": "markdown",
   "metadata": {}
  },
  {
   "cell_type": "code",
   "execution_count": 15,
   "metadata": {},
   "outputs": [],
   "source": [
    "# Split our preprocessed data into our features and target arrays\n",
    "y = scaled_stroke_df.stroke\n",
    "X = scaled_stroke_df.drop(columns=['stroke'])\n",
    "\n",
    "# Split the preprocessed data into a training and testing dataset\n",
    "X_train, X_test, y_train, y_test = train_test_split(X, y, random_state=100)"
   ]
  },
  {
   "cell_type": "code",
   "execution_count": 16,
   "metadata": {},
   "outputs": [],
   "source": [
    "# Create a StandardScaler instances\n",
    "scaler = StandardScaler()\n",
    "\n",
    "# Fit the StandardScaler\n",
    "X_scaler = scaler.fit(X_train)\n",
    "\n",
    "# Scale the data\n",
    "X_train_scaled = X_scaler.transform(X_train)\n",
    "X_test_scaled = X_scaler.transform(X_test)"
   ]
  },
  {
   "cell_type": "code",
   "execution_count": 17,
   "metadata": {},
   "outputs": [],
   "source": [
    "# Create a checkpoint of the model\n",
    "checkpoint_filepath = '../resources/model/checkpoints/stroke_data_analysis.h5'\n",
    "checkpoint_callback = tf.keras.callbacks.ModelCheckpoint(\n",
    "    filepath=checkpoint_filepath,\n",
    "    save_weights_only=True,\n",
    "    monitor='accuracy', \n",
    "    mode='max',\n",
    "    save_best_only=True,\n",
    "    save_freq=5,\n",
    "    verbrose=1\n",
    ")"
   ]
  },
  {
   "cell_type": "code",
   "execution_count": 18,
   "metadata": {},
   "outputs": [
    {
     "output_type": "stream",
     "name": "stdout",
     "text": [
      "Model: \"sequential\"\n_________________________________________________________________\nLayer (type)                 Output Shape              Param #   \n=================================================================\ndense (Dense)                (None, 16)                144       \n_________________________________________________________________\ndense_1 (Dense)              (None, 8)                 136       \n_________________________________________________________________\ndense_2 (Dense)              (None, 1)                 9         \n=================================================================\nTotal params: 289\nTrainable params: 289\nNon-trainable params: 0\n_________________________________________________________________\n"
     ]
    }
   ],
   "source": [
    "# Define the model - deep neural net, i.e., the number of input features and hidden nodes for each layer.\n",
    "number_input_features = len(X.columns)\n",
    "\n",
    "nn = tf.keras.models.Sequential()\n",
    "\n",
    "# First hidden layer\n",
    "nn.add(\n",
    "    Dense(\n",
    "        units=number_input_features * 2,\n",
    "        input_dim=number_input_features,\n",
    "        activation='relu'\n",
    "    )\n",
    ")\n",
    "\n",
    "# Second hidden layer\n",
    "nn.add(\n",
    "    Dense(\n",
    "        units=number_input_features,\n",
    "        activation='relu'\n",
    "    )\n",
    ")\n",
    "\n",
    "# Output layer\n",
    "nn.add(\n",
    "    Dense(\n",
    "        units=1,\n",
    "        activation='sigmoid'\n",
    "    )\n",
    ")\n",
    "\n",
    "# Check the structure of the model\n",
    "nn.summary()"
   ]
  },
  {
   "cell_type": "code",
   "execution_count": 28,
   "metadata": {},
   "outputs": [
    {
     "output_type": "stream",
     "name": "stdout",
     "text": [
      "186/186 [==============================] - 0s 1ms/step - loss: 0.0275 - accuracy: 0.9702\n"
     ]
    },
    {
     "output_type": "execute_result",
     "data": {
      "text/plain": [
       "<tensorflow.python.keras.callbacks.History at 0x7f1324016410>"
      ]
     },
     "metadata": {},
     "execution_count": 28
    }
   ],
   "source": [
    "# Compile the model\n",
    "nn.compile(loss=\"mean_squared_error\", optimizer=\"adam\", metrics=[\"accuracy\"])\n",
    "\n",
    "# Fit the model\n",
    "nn.fit(\n",
    "    X_train_scaled, \n",
    "    np.asarray(y_train), \n",
    "    epochs=1,\n",
    "    callbacks=checkpoint_callback\n",
    ")"
   ]
  },
  {
   "cell_type": "code",
   "execution_count": 29,
   "metadata": {},
   "outputs": [
    {
     "output_type": "stream",
     "name": "stdout",
     "text": [
      "62/62 - 0s - loss: 0.0249 - accuracy: 0.9732\n",
      "Loss: 0.02489994280040264, Accuracy: 0.9732052683830261\n"
     ]
    }
   ],
   "source": [
    "# The model weights (that are considered the best) are loaded into the model.\n",
    "nn.load_weights(checkpoint_filepath)\n",
    "\n",
    "# Check accuracy\n",
    "model_loss, model_accuracy = nn.evaluate(X_test_scaled,y_test,verbose=2)\n",
    "print(f\"Loss: {model_loss}, Accuracy: {model_accuracy}\")"
   ]
  },
  {
   "cell_type": "code",
   "execution_count": 30,
   "metadata": {},
   "outputs": [],
   "source": [
    "# Save the model\n",
    "nn.save('../resources/model/stroke_data_analysis.h5')"
   ]
  },
  {
   "source": [
    "## Summary"
   ],
   "cell_type": "markdown",
   "metadata": {}
  }
 ],
 "metadata": {
  "kernelspec": {
   "name": "python379jvsc74a57bd0f838c0c5390ba9064bd701341a826e2ed1a22bf9cfbb7a411e36ea5095ef45ce",
   "display_name": "Python 3.7.9 64-bit ('mlenv': conda)"
  },
  "language_info": {
   "codemirror_mode": {
    "name": "ipython",
    "version": 3
   },
   "file_extension": ".py",
   "mimetype": "text/x-python",
   "name": "python",
   "nbconvert_exporter": "python",
   "pygments_lexer": "ipython3",
   "version": "3.7.9"
  }
 },
 "nbformat": 4,
 "nbformat_minor": 4
}